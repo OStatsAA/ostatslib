{
 "cells": [
  {
   "cell_type": "markdown",
   "metadata": {},
   "source": [
    "# PMLB Regression Datasets"
   ]
  },
  {
   "cell_type": "markdown",
   "metadata": {},
   "source": [
    "## Loading regression datasets\n",
    "\n",
    "First, load a trained agent and get PMLB regression datasets names list. Although there are hundreds of datasets available, let's sample 10% from the list to demonstrate the agents capabilities."
   ]
  },
  {
   "cell_type": "code",
   "execution_count": 4,
   "metadata": {
    "tags": [
     "remove-cell"
    ]
   },
   "outputs": [],
   "source": [
    "import warnings\n",
    "warnings.filterwarnings('ignore')"
   ]
  },
  {
   "cell_type": "code",
   "execution_count": 5,
   "metadata": {},
   "outputs": [
    {
     "data": {
      "text/markdown": [
       "Sampled 12 regression datasets: 649_fri_c0_500_5, 656_fri_c1_100_5, 623_fri_c4_1000_10, 584_fri_c4_500_25, 615_fri_c4_250_10, 654_fri_c0_500_10, 556_analcatdata_apnea2, 665_sleuth_case2002, 201_pol, 1199_BNG_echoMonths, 608_fri_c3_1000_10, 1096_FacultySalaries."
      ],
      "text/plain": [
       "<IPython.core.display.Markdown object>"
      ]
     },
     "execution_count": 5,
     "metadata": {},
     "output_type": "execute_result"
    }
   ],
   "source": [
    "import random\n",
    "import pmlb\n",
    "from IPython.display import Markdown\n",
    "from ostatslib.agents import PPOAgent\n",
    "\n",
    "SAMPLE_FRACTION = 0.1\n",
    "sample_size = int(len(pmlb.regression_dataset_names) * SAMPLE_FRACTION)\n",
    "sampled_dataset_names = random.sample(pmlb.regression_dataset_names, sample_size)\n",
    "\n",
    "AGENT_FILE = '../trained_ppo_model.zip'\n",
    "agent = PPOAgent(AGENT_FILE)\n",
    "\n",
    "Markdown(f'Sampled {sample_size} regression datasets: {\", \".join(sampled_dataset_names)}.')"
   ]
  },
  {
   "cell_type": "markdown",
   "metadata": {},
   "source": [
    "## Analyses\n",
    "\n",
    "Next step is to fetch data and analyze each selected dataset. PMLB provides a function to fetch data from their repo. It's also required to add to the initial state which variable is the target."
   ]
  },
  {
   "cell_type": "code",
   "execution_count": 9,
   "metadata": {},
   "outputs": [
    {
     "name": "stderr",
     "output_type": "stream",
     "text": [
      "ERROR:tornado.general:SEND Error: Host unreachable\n"
     ]
    }
   ],
   "source": [
    "%%capture\n",
    "from ostatslib.states import State\n",
    "\n",
    "results = []\n",
    "\n",
    "for name in sampled_dataset_names:\n",
    "    data = pmlb.fetch_data(name, local_cache_dir='.pmlb_cache/')\n",
    "    initial_state = State()\n",
    "    initial_state.set('response_variable_label', 'target')\n",
    "    analysis = agent.analyze(data, initial_state)\n",
    "    results.append({\"name\": name, \"analysis\": analysis})"
   ]
  },
  {
   "cell_type": "markdown",
   "metadata": {},
   "source": [
    "## Results"
   ]
  },
  {
   "cell_type": "code",
   "execution_count": 8,
   "metadata": {},
   "outputs": [
    {
     "data": {
      "text/markdown": [
       "### 649_fri_c0_500_5"
      ],
      "text/plain": [
       "<IPython.core.display.Markdown object>"
      ]
     },
     "metadata": {},
     "output_type": "display_data"
    },
    {
     "name": "stdout",
     "output_type": "stream",
     "text": [
      "\n",
      "Analysis executed at 2023-10-15 18:18:27.510980\n",
      "Final status is Complete\n",
      "Initial State known features:\n",
      "response_variable_label                       target\n",
      "score                                         0.7852042156037796\n",
      "response_unique_values_ratio                  1.0\n",
      "is_response_positive_values_only              -1\n",
      "adaboost_square_loss_regression_score_reward  0.7852042156037796\n",
      "Steps:\n",
      "  Order  Step                                    Reward  State Change\n",
      "-------  ------------------------------------  --------  ------------------------------------------------------\n",
      "      1  Is Response Positive Values Only      0.1\n",
      "      2  Response Unique Values Ratio          0.1       response_unique_values_ratio  1\n",
      "      3  AdaBoost Regression with Square Loss  0.785204  score                                         0.785204\n",
      "                                                         adaboost_square_loss_regression_score_reward  0.785204\n"
     ]
    },
    {
     "data": {
      "text/markdown": [
       "### 656_fri_c1_100_5"
      ],
      "text/plain": [
       "<IPython.core.display.Markdown object>"
      ]
     },
     "metadata": {},
     "output_type": "display_data"
    },
    {
     "name": "stdout",
     "output_type": "stream",
     "text": [
      "\n",
      "Analysis executed at 2023-10-15 18:18:28.032696\n",
      "Final status is Complete\n",
      "Initial State known features:\n",
      "response_variable_label                       target\n",
      "score                                         0.7549163944562183\n",
      "response_unique_values_ratio                  1.0\n",
      "is_response_positive_values_only              -1\n",
      "adaboost_square_loss_regression_score_reward  0.7549163944562183\n",
      "Steps:\n",
      "  Order  Step                                    Reward  State Change\n",
      "-------  ------------------------------------  --------  ------------------------------------------------------\n",
      "      1  Is Response Positive Values Only      0.1\n",
      "      2  Response Unique Values Ratio          0.1       response_unique_values_ratio  1\n",
      "      3  AdaBoost Regression with Square Loss  0.754916  score                                         0.754916\n",
      "                                                         adaboost_square_loss_regression_score_reward  0.754916\n"
     ]
    },
    {
     "data": {
      "text/markdown": [
       "### 623_fri_c4_1000_10"
      ],
      "text/plain": [
       "<IPython.core.display.Markdown object>"
      ]
     },
     "metadata": {},
     "output_type": "display_data"
    },
    {
     "name": "stdout",
     "output_type": "stream",
     "text": [
      "\n",
      "Analysis executed at 2023-10-15 18:18:28.972196\n",
      "Final status is Complete\n",
      "Initial State known features:\n",
      "response_variable_label                       target\n",
      "score                                         0.789200856110073\n",
      "response_unique_values_ratio                  1.0\n",
      "is_response_positive_values_only              -1\n",
      "adaboost_square_loss_regression_score_reward  0.789200856110073\n",
      "Steps:\n",
      "  Order  Step                                    Reward  State Change\n",
      "-------  ------------------------------------  --------  ------------------------------------------------------\n",
      "      1  Is Response Positive Values Only      0.1\n",
      "      2  Response Unique Values Ratio          0.1       response_unique_values_ratio  1\n",
      "      3  AdaBoost Regression with Square Loss  0.789201  score                                         0.789201\n",
      "                                                         adaboost_square_loss_regression_score_reward  0.789201\n"
     ]
    },
    {
     "data": {
      "text/markdown": [
       "### 584_fri_c4_500_25"
      ],
      "text/plain": [
       "<IPython.core.display.Markdown object>"
      ]
     },
     "metadata": {},
     "output_type": "display_data"
    },
    {
     "name": "stdout",
     "output_type": "stream",
     "text": [
      "\n",
      "Analysis executed at 2023-10-15 18:18:31.657107\n",
      "Final status is Complete\n",
      "Initial State known features:\n",
      "response_variable_label                       target\n",
      "score                                         0.7779126179981797\n",
      "response_unique_values_ratio                  1.0\n",
      "is_response_positive_values_only              -1\n",
      "adaboost_square_loss_regression_score_reward  0.7779126179981797\n",
      "Steps:\n",
      "  Order  Step                                    Reward  State Change\n",
      "-------  ------------------------------------  --------  ------------------------------------------------------\n",
      "      1  Is Response Positive Values Only      0.1\n",
      "      2  Response Unique Values Ratio          0.1       response_unique_values_ratio  1\n",
      "      3  AdaBoost Regression with Square Loss  0.777913  score                                         0.777913\n",
      "                                                         adaboost_square_loss_regression_score_reward  0.777913\n"
     ]
    },
    {
     "data": {
      "text/markdown": [
       "### 615_fri_c4_250_10"
      ],
      "text/plain": [
       "<IPython.core.display.Markdown object>"
      ]
     },
     "metadata": {},
     "output_type": "display_data"
    },
    {
     "name": "stdout",
     "output_type": "stream",
     "text": [
      "\n",
      "Analysis executed at 2023-10-15 18:18:33.793695\n",
      "Final status is Complete\n",
      "Initial State known features:\n",
      "response_variable_label                       target\n",
      "score                                         0.704890474685613\n",
      "response_unique_values_ratio                  1.0\n",
      "is_response_positive_values_only              -1\n",
      "adaboost_square_loss_regression_score_reward  0.704890474685613\n",
      "Steps:\n",
      "  Order  Step                                     Reward  State Change\n",
      "-------  ------------------------------------  ---------  -------------------------------------------------------\n",
      "      1  Is Response Positive Values Only       0.1\n",
      "      2  Response Unique Values Ratio           0.1       response_unique_values_ratio  1\n",
      "      3  AdaBoost Regression with Square Loss  -0.315074  score                                          0.684926\n",
      "                                                          adaboost_square_loss_regression_score_reward  -0.315074\n",
      "      4  AdaBoost Regression with Square Loss  -0.323332  score                                          0.676668\n",
      "                                                          adaboost_square_loss_regression_score_reward  -0.323332\n",
      "      5  AdaBoost Regression with Square Loss   0.70489   score                                         0.70489\n",
      "                                                          adaboost_square_loss_regression_score_reward  0.70489\n"
     ]
    },
    {
     "data": {
      "text/markdown": [
       "### 654_fri_c0_500_10"
      ],
      "text/plain": [
       "<IPython.core.display.Markdown object>"
      ]
     },
     "metadata": {},
     "output_type": "display_data"
    },
    {
     "name": "stdout",
     "output_type": "stream",
     "text": [
      "\n",
      "Analysis executed at 2023-10-15 18:18:34.692126\n",
      "Final status is Complete\n",
      "Initial State known features:\n",
      "response_variable_label                       target\n",
      "score                                         0.7751243054421953\n",
      "response_unique_values_ratio                  1.0\n",
      "is_response_positive_values_only              -1\n",
      "adaboost_square_loss_regression_score_reward  0.7751243054421953\n",
      "Steps:\n",
      "  Order  Step                                    Reward  State Change\n",
      "-------  ------------------------------------  --------  ------------------------------------------------------\n",
      "      1  Is Response Positive Values Only      0.1\n",
      "      2  Response Unique Values Ratio          0.1       response_unique_values_ratio  1\n",
      "      3  AdaBoost Regression with Square Loss  0.775124  score                                         0.775124\n",
      "                                                         adaboost_square_loss_regression_score_reward  0.775124\n"
     ]
    },
    {
     "data": {
      "text/markdown": [
       "### 556_analcatdata_apnea2"
      ],
      "text/plain": [
       "<IPython.core.display.Markdown object>"
      ]
     },
     "metadata": {},
     "output_type": "display_data"
    },
    {
     "name": "stdout",
     "output_type": "stream",
     "text": [
      "\n",
      "Analysis executed at 2023-10-15 18:18:34.891779\n",
      "Final status is Complete\n",
      "Initial State known features:\n",
      "response_variable_label                                     target\n",
      "score                                                       0.711739995276534\n",
      "time_convertible_variable\n",
      "response_unique_values_ratio                                0.37473684210526315\n",
      "response_inferred_dtype                                     floating\n",
      "is_response_positive_values_only                            1\n",
      "standardized_variables_ratio                                -1\n",
      "n_100_estimators_gradient_boosting_regression_score_reward  0.711739995276534\n",
      "Steps:\n",
      "  Order  Step                                           Reward  State Change\n",
      "-------  -------------------------------------------  --------  -------------------------------------------------------------------\n",
      "      1  Is Response Positive Values Only              0.1\n",
      "      2  Time Convertible Variable Search              0.1      time_convertible_variable\n",
      "      3  Infer Response DType                          0.1      response_inferred_dtype  floating\n",
      "      4  Standardized Variables Ratio                  0.1      standardized_variables_ratio  -1\n",
      "      5  Response Unique Values Ratio                  0.1      response_unique_values_ratio  0.374737\n",
      "      6  Gradient Boosting Regression 100 Estimators   0.71174  score                                                       0.71174\n",
      "                                                                n_100_estimators_gradient_boosting_regression_score_reward  0.71174\n"
     ]
    },
    {
     "data": {
      "text/markdown": [
       "### 665_sleuth_case2002"
      ],
      "text/plain": [
       "<IPython.core.display.Markdown object>"
      ]
     },
     "metadata": {},
     "output_type": "display_data"
    },
    {
     "name": "stdout",
     "output_type": "stream",
     "text": [
      "\n",
      "Analysis executed at 2023-10-15 18:18:35.090745\n",
      "Final status is Not Complete\n",
      "Initial State known features:\n",
      "response_variable_label           target\n",
      "time_convertible_variable\n",
      "response_unique_values_ratio      0.1292517006802721\n",
      "response_inferred_dtype           floating\n",
      "is_response_positive_values_only  1\n",
      "standardized_variables_ratio      -1\n",
      "Steps:\n",
      "  Order  Step                                Reward  State Change\n",
      "-------  --------------------------------  --------  --------------------------------------\n",
      "      1  Is Response Positive Values Only       0.1\n",
      "      2  Time Convertible Variable Search       0.1  time_convertible_variable\n",
      "      3  Infer Response DType                   0.1  response_inferred_dtype  floating\n",
      "      4  Standardized Variables Ratio           0.1  standardized_variables_ratio  -1\n",
      "      5  Response Unique Values Ratio           0.1  response_unique_values_ratio  0.129252\n",
      "      6  Response Unique Values Ratio          -1\n",
      "      7  Response Unique Values Ratio          -1\n",
      "      8  Response Unique Values Ratio          -1\n",
      "      9  Response Unique Values Ratio          -1\n",
      "     10  Response Unique Values Ratio          -1\n",
      "     11  Response Unique Values Ratio          -1\n",
      "     12  Response Unique Values Ratio          -1\n",
      "     13  Response Unique Values Ratio          -1\n",
      "     14  Response Unique Values Ratio          -1\n",
      "     15  Response Unique Values Ratio          -1\n"
     ]
    },
    {
     "data": {
      "text/markdown": [
       "### 201_pol"
      ],
      "text/plain": [
       "<IPython.core.display.Markdown object>"
      ]
     },
     "metadata": {},
     "output_type": "display_data"
    },
    {
     "name": "stdout",
     "output_type": "stream",
     "text": [
      "\n",
      "Analysis executed at 2023-10-15 18:18:35.386553\n",
      "Final status is Not Complete\n",
      "Initial State known features:\n",
      "response_variable_label           target\n",
      "time_convertible_variable\n",
      "response_unique_values_ratio      0.0007333333333333333\n",
      "response_inferred_dtype           floating\n",
      "is_response_positive_values_only  1\n",
      "standardized_variables_ratio      -1\n",
      "Steps:\n",
      "  Order  Step                                Reward  State Change\n",
      "-------  --------------------------------  --------  -----------------------------------------\n",
      "      1  Is Response Positive Values Only       0.1\n",
      "      2  Time Convertible Variable Search       0.1  time_convertible_variable\n",
      "      3  Infer Response DType                   0.1  response_inferred_dtype  floating\n",
      "      4  Standardized Variables Ratio           0.1  standardized_variables_ratio  -1\n",
      "      5  Response Unique Values Ratio           0.1  response_unique_values_ratio  0.000733333\n",
      "      6  Response Unique Values Ratio          -1\n",
      "      7  Response Unique Values Ratio          -1\n",
      "      8  Response Unique Values Ratio          -1\n",
      "      9  Response Unique Values Ratio          -1\n",
      "     10  Response Unique Values Ratio          -1\n",
      "     11  Response Unique Values Ratio          -1\n",
      "     12  Response Unique Values Ratio          -1\n",
      "     13  Response Unique Values Ratio          -1\n",
      "     14  Response Unique Values Ratio          -1\n",
      "     15  Response Unique Values Ratio          -1\n"
     ]
    },
    {
     "data": {
      "text/markdown": [
       "### 1199_BNG_echoMonths"
      ],
      "text/plain": [
       "<IPython.core.display.Markdown object>"
      ]
     },
     "metadata": {},
     "output_type": "display_data"
    },
    {
     "name": "stdout",
     "output_type": "stream",
     "text": [
      "\n",
      "Analysis executed at 2023-10-15 18:19:50.823089\n",
      "Final status is Not Complete\n",
      "Initial State known features:\n",
      "response_variable_label                       target\n",
      "score                                         0.2633249659679566\n",
      "response_unique_values_ratio                  0.9995999085505258\n",
      "is_response_positive_values_only              -1\n",
      "adaboost_square_loss_regression_score_reward  -0.7366750340320434\n",
      "Steps:\n",
      "  Order  Step                                     Reward  State Change\n",
      "-------  ------------------------------------  ---------  -------------------------------------------------------\n",
      "      1  Is Response Positive Values Only       0.1\n",
      "      2  Response Unique Values Ratio           0.1       response_unique_values_ratio  0.9996\n",
      "      3  AdaBoost Regression with Square Loss  -0.738311  score                                          0.261689\n",
      "                                                          adaboost_square_loss_regression_score_reward  -0.738311\n",
      "      4  AdaBoost Regression with Square Loss  -0.727353  score                                          0.272647\n",
      "                                                          adaboost_square_loss_regression_score_reward  -0.727353\n",
      "      5  AdaBoost Regression with Square Loss  -0.722207  score                                          0.277793\n",
      "                                                          adaboost_square_loss_regression_score_reward  -0.722207\n",
      "      6  AdaBoost Regression with Square Loss  -0.759876  score                                          0.240124\n",
      "                                                          adaboost_square_loss_regression_score_reward  -0.759876\n",
      "      7  AdaBoost Regression with Square Loss  -0.731492  score                                          0.268508\n",
      "                                                          adaboost_square_loss_regression_score_reward  -0.731492\n",
      "      8  AdaBoost Regression with Square Loss  -0.745692  score                                          0.254308\n",
      "                                                          adaboost_square_loss_regression_score_reward  -0.745692\n",
      "      9  AdaBoost Regression with Square Loss  -0.722277  score                                          0.277723\n",
      "                                                          adaboost_square_loss_regression_score_reward  -0.722277\n",
      "     10  AdaBoost Regression with Square Loss  -0.727023  score                                          0.272977\n",
      "                                                          adaboost_square_loss_regression_score_reward  -0.727023\n",
      "     11  AdaBoost Regression with Square Loss  -0.730705  score                                          0.269295\n",
      "                                                          adaboost_square_loss_regression_score_reward  -0.730705\n",
      "     12  AdaBoost Regression with Square Loss  -0.721102  score                                          0.278898\n",
      "                                                          adaboost_square_loss_regression_score_reward  -0.721102\n",
      "     13  AdaBoost Regression with Square Loss  -0.738351  score                                          0.261649\n",
      "                                                          adaboost_square_loss_regression_score_reward  -0.738351\n",
      "     14  AdaBoost Regression with Square Loss  -0.722905  score                                          0.277095\n",
      "                                                          adaboost_square_loss_regression_score_reward  -0.722905\n",
      "     15  AdaBoost Regression with Square Loss  -0.736675  score                                          0.263325\n",
      "                                                          adaboost_square_loss_regression_score_reward  -0.736675\n"
     ]
    },
    {
     "data": {
      "text/markdown": [
       "### 608_fri_c3_1000_10"
      ],
      "text/plain": [
       "<IPython.core.display.Markdown object>"
      ]
     },
     "metadata": {},
     "output_type": "display_data"
    },
    {
     "name": "stdout",
     "output_type": "stream",
     "text": [
      "\n",
      "Analysis executed at 2023-10-15 18:19:51.748633\n",
      "Final status is Complete\n",
      "Initial State known features:\n",
      "response_variable_label                       target\n",
      "score                                         0.787700374415138\n",
      "response_unique_values_ratio                  1.0\n",
      "is_response_positive_values_only              -1\n",
      "adaboost_square_loss_regression_score_reward  0.787700374415138\n",
      "Steps:\n",
      "  Order  Step                                    Reward  State Change\n",
      "-------  ------------------------------------  --------  ----------------------------------------------------\n",
      "      1  Is Response Positive Values Only        0.1\n",
      "      2  Response Unique Values Ratio            0.1     response_unique_values_ratio  1\n",
      "      3  AdaBoost Regression with Square Loss    0.7877  score                                         0.7877\n",
      "                                                         adaboost_square_loss_regression_score_reward  0.7877\n"
     ]
    },
    {
     "data": {
      "text/markdown": [
       "### 1096_FacultySalaries"
      ],
      "text/plain": [
       "<IPython.core.display.Markdown object>"
      ]
     },
     "metadata": {},
     "output_type": "display_data"
    },
    {
     "ename": "ValueError",
     "evalue": "Cannot write State delta, step 6 State is None",
     "output_type": "error",
     "traceback": [
      "\u001b[0;31m---------------------------------------------------------------------------\u001b[0m",
      "\u001b[0;31mValueError\u001b[0m                                Traceback (most recent call last)",
      "\u001b[1;32m/workspaces/ostatslib/docs/examples/pmlb_regressions.ipynb Cell 8\u001b[0m line \u001b[0;36m5\n\u001b[1;32m      <a href='vscode-notebook-cell://dev-container%2B7b227265706f7369746f727950617468223a2268747470733a2f2f6769746875622e636f6d2f4f537461747341412f6f73746174736c69622e6769742f747265652f6d61696e222c22766f6c756d654e616d65223a225f5f554e495155455f5f222c22666f6c646572223a226f73746174736c6962222c22636c6f6e65496e666f223a7b2275726c546f436c6f6e65223a2268747470733a2f2f6769746875622e636f6d2f4f537461747341412f6f73746174736c69622e676974222c22726566223a226d61696e227d2c22696e7370656374566f6c756d65223a66616c73657d/workspaces/ostatslib/docs/examples/pmlb_regressions.ipynb#X10sdnNjb2RlLXJlbW90ZQ%3D%3D?line=2'>3</a>\u001b[0m \u001b[39mfor\u001b[39;00m result \u001b[39min\u001b[39;00m results:\n\u001b[1;32m      <a href='vscode-notebook-cell://dev-container%2B7b227265706f7369746f727950617468223a2268747470733a2f2f6769746875622e636f6d2f4f537461747341412f6f73746174736c69622e6769742f747265652f6d61696e222c22766f6c756d654e616d65223a225f5f554e495155455f5f222c22666f6c646572223a226f73746174736c6962222c22636c6f6e65496e666f223a7b2275726c546f436c6f6e65223a2268747470733a2f2f6769746875622e636f6d2f4f537461747341412f6f73746174736c69622e676974222c22726566223a226d61696e227d2c22696e7370656374566f6c756d65223a66616c73657d/workspaces/ostatslib/docs/examples/pmlb_regressions.ipynb#X10sdnNjb2RlLXJlbW90ZQ%3D%3D?line=3'>4</a>\u001b[0m     display(Markdown(\u001b[39mf\u001b[39m\u001b[39m\"\u001b[39m\u001b[39m### \u001b[39m\u001b[39m{\u001b[39;00mresult[\u001b[39m'\u001b[39m\u001b[39mname\u001b[39m\u001b[39m'\u001b[39m]\u001b[39m}\u001b[39;00m\u001b[39m\"\u001b[39m))\n\u001b[0;32m----> <a href='vscode-notebook-cell://dev-container%2B7b227265706f7369746f727950617468223a2268747470733a2f2f6769746875622e636f6d2f4f537461747341412f6f73746174736c69622e6769742f747265652f6d61696e222c22766f6c756d654e616d65223a225f5f554e495155455f5f222c22666f6c646572223a226f73746174736c6962222c22636c6f6e65496e666f223a7b2275726c546f436c6f6e65223a2268747470733a2f2f6769746875622e636f6d2f4f537461747341412f6f73746174736c69622e676974222c22726566223a226d61696e227d2c22696e7370656374566f6c756d65223a66616c73657d/workspaces/ostatslib/docs/examples/pmlb_regressions.ipynb#X10sdnNjb2RlLXJlbW90ZQ%3D%3D?line=4'>5</a>\u001b[0m     \u001b[39mprint\u001b[39m(result[\u001b[39m'\u001b[39;49m\u001b[39manalysis\u001b[39;49m\u001b[39m'\u001b[39;49m]\u001b[39m.\u001b[39;49msummary())\n",
      "File \u001b[0;32m/workspaces/ostatslib/ostatslib/agents/analysis_result.py:49\u001b[0m, in \u001b[0;36mAnalysisResult.summary\u001b[0;34m(self)\u001b[0m\n\u001b[1;32m     38\u001b[0m \u001b[39mdef\u001b[39;00m \u001b[39msummary\u001b[39m(\u001b[39mself\u001b[39m) \u001b[39m-\u001b[39m\u001b[39m>\u001b[39m \u001b[39mstr\u001b[39m:\n\u001b[1;32m     39\u001b[0m \u001b[39m    \u001b[39m\u001b[39m\"\"\"\u001b[39;00m\n\u001b[1;32m     40\u001b[0m \u001b[39m    Returns analysis summary\u001b[39;00m\n\u001b[1;32m     41\u001b[0m \n\u001b[1;32m     42\u001b[0m \u001b[39m    Returns:\u001b[39;00m\n\u001b[1;32m     43\u001b[0m \u001b[39m        str: analysis summary\u001b[39;00m\n\u001b[1;32m     44\u001b[0m \u001b[39m    \"\"\"\u001b[39;00m\n\u001b[1;32m     45\u001b[0m     \u001b[39mreturn\u001b[39;00m (\n\u001b[1;32m     46\u001b[0m         \u001b[39mf\u001b[39m\u001b[39m'\u001b[39m\u001b[39m\\n\u001b[39;00m\u001b[39mAnalysis executed at \u001b[39m\u001b[39m{\u001b[39;00m\u001b[39mself\u001b[39m\u001b[39m.\u001b[39mtimestamp\u001b[39m}\u001b[39;00m\u001b[39m\\n\u001b[39;00m\u001b[39m'\u001b[39m\n\u001b[1;32m     47\u001b[0m         \u001b[39mf\u001b[39m\u001b[39m'\u001b[39m\u001b[39mFinal status is \u001b[39m\u001b[39m{\u001b[39;00m\u001b[39m\"\u001b[39m\u001b[39mComplete\u001b[39m\u001b[39m\"\u001b[39m\u001b[39m \u001b[39m\u001b[39mif\u001b[39;00m\u001b[39m \u001b[39m\u001b[39mself\u001b[39m\u001b[39m.\u001b[39mdone\u001b[39m \u001b[39m\u001b[39melse\u001b[39;00m\u001b[39m \u001b[39m\u001b[39m\"\u001b[39m\u001b[39mNot Complete\u001b[39m\u001b[39m\"\u001b[39m\u001b[39m}\u001b[39;00m\u001b[39m\\n\u001b[39;00m\u001b[39m'\u001b[39m\n\u001b[1;32m     48\u001b[0m         \u001b[39mf\u001b[39m\u001b[39m'\u001b[39m\u001b[39mInitial State known features:\u001b[39m\u001b[39m\\n\u001b[39;00m\u001b[39m{\u001b[39;00m\u001b[39mself\u001b[39m\u001b[39m.\u001b[39m__fill_initial_state_row()\u001b[39m}\u001b[39;00m\u001b[39m\\n\u001b[39;00m\u001b[39m'\u001b[39m\n\u001b[0;32m---> 49\u001b[0m         \u001b[39mf\u001b[39m\u001b[39m'\u001b[39m\u001b[39mSteps:\u001b[39m\u001b[39m\\n\u001b[39;00m\u001b[39m{\u001b[39;00m\u001b[39mself\u001b[39;49m\u001b[39m.\u001b[39;49m__fill_summary_table_steps_rows()\u001b[39m}\u001b[39;00m\u001b[39m'\u001b[39m\n\u001b[1;32m     50\u001b[0m     )\n",
      "File \u001b[0;32m/workspaces/ostatslib/ostatslib/agents/analysis_result.py:65\u001b[0m, in \u001b[0;36mAnalysisResult.__fill_summary_table_steps_rows\u001b[0;34m(self)\u001b[0m\n\u001b[1;32m     58\u001b[0m table_rows: StepsRows \u001b[39m=\u001b[39m []\n\u001b[1;32m     60\u001b[0m \u001b[39mfor\u001b[39;00m i, (reward, info) \u001b[39min\u001b[39;00m \u001b[39menumerate\u001b[39m(\u001b[39mself\u001b[39m\u001b[39m.\u001b[39msteps):\n\u001b[1;32m     61\u001b[0m     table_rows\u001b[39m.\u001b[39mappend((\n\u001b[1;32m     62\u001b[0m         i\u001b[39m+\u001b[39m\u001b[39m1\u001b[39m,\n\u001b[1;32m     63\u001b[0m         \u001b[39mstr\u001b[39m(info\u001b[39m.\u001b[39maction_name),\n\u001b[1;32m     64\u001b[0m         reward,\n\u001b[0;32m---> 65\u001b[0m         tabulate(\u001b[39mself\u001b[39;49m\u001b[39m.\u001b[39;49m__get_state_delta(info, i)\u001b[39m.\u001b[39mlist_known_features(),\n\u001b[1;32m     66\u001b[0m                  tablefmt\u001b[39m=\u001b[39m\u001b[39m\"\u001b[39m\u001b[39mplain\u001b[39m\u001b[39m\"\u001b[39m)\n\u001b[1;32m     67\u001b[0m     ))\n\u001b[1;32m     69\u001b[0m \u001b[39mreturn\u001b[39;00m tabulate(table_rows, steps_headers)\n",
      "File \u001b[0;32m/workspaces/ostatslib/ostatslib/agents/analysis_result.py:84\u001b[0m, in \u001b[0;36mAnalysisResult.__get_state_delta\u001b[0;34m(self, info, i)\u001b[0m\n\u001b[1;32m     79\u001b[0m         \u001b[39mreturn\u001b[39;00m info\u001b[39m.\u001b[39mnext_state \u001b[39m-\u001b[39m previous_state\n\u001b[1;32m     81\u001b[0m     \u001b[39mraise\u001b[39;00m \u001b[39mValueError\u001b[39;00m(\n\u001b[1;32m     82\u001b[0m         \u001b[39mf\u001b[39m\u001b[39m'\u001b[39m\u001b[39mCannot write State delta, step \u001b[39m\u001b[39m{\u001b[39;00mi\u001b[39m-\u001b[39m\u001b[39m1\u001b[39m\u001b[39m}\u001b[39;00m\u001b[39m State is None\u001b[39m\u001b[39m'\u001b[39m)\n\u001b[0;32m---> 84\u001b[0m \u001b[39mraise\u001b[39;00m \u001b[39mValueError\u001b[39;00m(\u001b[39mf\u001b[39m\u001b[39m'\u001b[39m\u001b[39mCannot write State delta, step \u001b[39m\u001b[39m{\u001b[39;00mi\u001b[39m}\u001b[39;00m\u001b[39m State is None\u001b[39m\u001b[39m'\u001b[39m)\n",
      "\u001b[0;31mValueError\u001b[0m: Cannot write State delta, step 6 State is None"
     ]
    }
   ],
   "source": [
    "from IPython.display import display\n",
    "\n",
    "for result in results:\n",
    "    display(Markdown(f\"### {result['name']}\"))\n",
    "    print(result['analysis'].summary())"
   ]
  }
 ],
 "metadata": {
  "kernelspec": {
   "display_name": ".venv",
   "language": "python",
   "name": "python3"
  },
  "language_info": {
   "codemirror_mode": {
    "name": "ipython",
    "version": 3
   },
   "file_extension": ".py",
   "mimetype": "text/x-python",
   "name": "python",
   "nbconvert_exporter": "python",
   "pygments_lexer": "ipython3",
   "version": "3.11.4"
  },
  "orig_nbformat": 4
 },
 "nbformat": 4,
 "nbformat_minor": 2
}
