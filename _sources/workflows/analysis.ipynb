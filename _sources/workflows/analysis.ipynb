{
 "cells": [
  {
   "cell_type": "markdown",
   "metadata": {},
   "source": [
    "# Analysis"
   ]
  },
  {
   "cell_type": "markdown",
   "metadata": {},
   "source": [
    "## Sequence diagram\n",
    "\n",
    "````{div} full-width\n",
    "```{mermaid}\n",
    "sequenceDiagram\n",
    "    autonumber\n",
    "    participant Environment\n",
    "    participant Agent\n",
    "    participant QValue Model\n",
    "    Note left of QValue Model: SVR, DQN...\n",
    "    participant ActionsSpace\n",
    "    participant Action\n",
    "\n",
    "    loop Step\n",
    "        Environment->>+Agent: Get action (State, Actions)\n",
    "        Agent->>+QValue Model: Predict highest QValue (State, Actions)\n",
    "        QValue Model-->>-Agent: Best action and its QValue\n",
    "        Agent-->>-Environment: Return best action\n",
    "        Environment->>+ActionsSpace: Get action function (Best action)\n",
    "        ActionsSpace-->>-Environment: return action function\n",
    "        Environment->>+Action: Run action (State, Dataset)\n",
    "        Action-->>-Environment: Return result, next state, reward\n",
    "        Environment->>Environment: State = Next State\n",
    "        Environment->>Environment: Break loop if analysis is done\n",
    "    end\n",
    "```\n",
    "````\n"
   ]
  }
 ],
 "metadata": {
  "kernelspec": {
   "display_name": "Python 3.10.7 ('.venv': poetry)",
   "language": "python",
   "name": "python3"
  },
  "language_info": {
   "name": "python",
   "version": "3.10.7"
  },
  "orig_nbformat": 4,
  "vscode": {
   "interpreter": {
    "hash": "bc31b72d76bb86a03669e931e818811fb2ab46ea94e9eb5815941aa084bb6329"
   }
  }
 },
 "nbformat": 4,
 "nbformat_minor": 2
}
