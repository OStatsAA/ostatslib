{
 "cells": [
  {
   "cell_type": "markdown",
   "metadata": {},
   "source": [
    "# PMLB Classification Datasets"
   ]
  },
  {
   "cell_type": "markdown",
   "metadata": {},
   "source": [
    "## Loading classification datasets\n",
    "\n",
    "First, load a trained agent and get PMLB classification datasets names list. Although there are hundreds of datasets available, let's sample 10% from the list to demonstrate the agents capabilities."
   ]
  },
  {
   "cell_type": "code",
   "execution_count": 6,
   "metadata": {
    "tags": [
     "remove-cell"
    ]
   },
   "outputs": [],
   "source": [
    "import warnings\n",
    "warnings.filterwarnings('ignore')"
   ]
  },
  {
   "cell_type": "code",
   "execution_count": 7,
   "metadata": {},
   "outputs": [
    {
     "data": {
      "text/markdown": [
       "Sampled 16 classification datasets: fars, ann_thyroid, page_blocks, analcatdata_happiness, xd6, monk1, pima, mfeat_fourier, clean2, GAMETES_Epistasis_2_Way_20atts_0.1H_EDM_1_1, breast_cancer_wisconsin, sleep, analcatdata_boxing1, monk2, car_evaluation, house_votes_84."
      ],
      "text/plain": [
       "<IPython.core.display.Markdown object>"
      ]
     },
     "execution_count": 7,
     "metadata": {},
     "output_type": "execute_result"
    }
   ],
   "source": [
    "import random\n",
    "import pmlb\n",
    "from IPython.display import Markdown\n",
    "from ostatslib.agents import PPOAgent\n",
    "\n",
    "SAMPLE_FRACTION = 0.1\n",
    "sample_size = int(len(pmlb.classification_dataset_names) * SAMPLE_FRACTION)\n",
    "sampled_dataset_names = random.sample(pmlb.classification_dataset_names, sample_size)\n",
    "\n",
    "AGENT_FILE = '../trained_ppo_model.zip'\n",
    "agent = PPOAgent(AGENT_FILE)\n",
    "\n",
    "Markdown(f'Sampled {sample_size} classification datasets: {\", \".join(sampled_dataset_names)}.')"
   ]
  },
  {
   "cell_type": "markdown",
   "metadata": {},
   "source": [
    "## Analyses\n",
    "\n",
    "Next step is to fetch data and analyze each selected dataset. PMLB provides a function to fetch data from their repo. It's also required to add to the initial state which variable is the target."
   ]
  },
  {
   "cell_type": "code",
   "execution_count": 8,
   "metadata": {
    "tags": []
   },
   "outputs": [],
   "source": [
    "%%capture\n",
    "from ostatslib.states import State\n",
    "\n",
    "results = []\n",
    "\n",
    "for name in sampled_dataset_names:\n",
    "    data = pmlb.fetch_data(name, local_cache_dir='.pmlb_cache/')\n",
    "    initial_state = State()\n",
    "    initial_state.set('response_variable_label', 'target')\n",
    "    analysis = agent.analyze(data, initial_state)\n",
    "    results.append({\"name\": name, \"analysis\": analysis})"
   ]
  },
  {
   "cell_type": "markdown",
   "metadata": {},
   "source": [
    "## Results"
   ]
  },
  {
   "cell_type": "code",
   "execution_count": 9,
   "metadata": {},
   "outputs": [
    {
     "data": {
      "text/markdown": [
       "### fars"
      ],
      "text/plain": [
       "<IPython.core.display.Markdown object>"
      ]
     },
     "metadata": {},
     "output_type": "display_data"
    },
    {
     "name": "stdout",
     "output_type": "stream",
     "text": [
      "\n",
      "Analysis executed at 2023-07-25 19:00:27.546841\n",
      "Final status is Complete\n",
      "Initial State known features:\n",
      "response_variable_label  target\n",
      "Steps:\n",
      "  Order  Step                          Reward  State Change\n",
      "-------  --------------------------  --------  ------------------------------------\n",
      "      1  Infer Response DType        0.1       response_inferred_dtype  integer\n",
      "      2  Get Log Rows Count          0.1       log_rows_count  0.966805\n",
      "      3  Is Response Discrete Check  0.1       is_response_discrete  1\n",
      "      4  Decision Tree               0.771191  score                       0.696191\n",
      "                                               decision_tree_score_reward  0.696191\n"
     ]
    },
    {
     "data": {
      "text/markdown": [
       "### ann_thyroid"
      ],
      "text/plain": [
       "<IPython.core.display.Markdown object>"
      ]
     },
     "metadata": {},
     "output_type": "display_data"
    },
    {
     "name": "stdout",
     "output_type": "stream",
     "text": [
      "\n",
      "Analysis executed at 2023-07-25 19:00:28.407073\n",
      "Final status is Complete\n",
      "Initial State known features:\n",
      "response_variable_label  target\n",
      "Steps:\n",
      "  Order  Step                          Reward  State Change\n",
      "-------  --------------------------  --------  -----------------------------------\n",
      "      1  Infer Response DType             0.1  response_inferred_dtype  integer\n",
      "      2  Get Log Rows Count               0.1  log_rows_count  0.745234\n",
      "      3  Is Response Discrete Check       0.1  is_response_discrete  1\n",
      "      4  Decision Tree                    1    score                       0.99625\n",
      "                                               decision_tree_score_reward  0.99625\n"
     ]
    },
    {
     "data": {
      "text/markdown": [
       "### page_blocks"
      ],
      "text/plain": [
       "<IPython.core.display.Markdown object>"
      ]
     },
     "metadata": {},
     "output_type": "display_data"
    },
    {
     "name": "stdout",
     "output_type": "stream",
     "text": [
      "\n",
      "Analysis executed at 2023-07-25 19:00:29.576404\n",
      "Final status is Complete\n",
      "Initial State known features:\n",
      "response_variable_label  target\n",
      "Steps:\n",
      "  Order  Step                          Reward  State Change\n",
      "-------  --------------------------  --------  ------------------------------------\n",
      "      1  Infer Response DType             0.1  response_inferred_dtype  integer\n",
      "      2  Get Log Rows Count               0.1  log_rows_count  0.722223\n",
      "      3  Is Response Discrete Check       0.1  is_response_discrete  1\n",
      "      4  Decision Tree                    1    score                       0.952263\n",
      "                                               decision_tree_score_reward  0.952263\n"
     ]
    },
    {
     "data": {
      "text/markdown": [
       "### analcatdata_happiness"
      ],
      "text/plain": [
       "<IPython.core.display.Markdown object>"
      ]
     },
     "metadata": {},
     "output_type": "display_data"
    },
    {
     "name": "stdout",
     "output_type": "stream",
     "text": [
      "\n",
      "Analysis executed at 2023-07-25 19:00:30.053794\n",
      "Final status is Complete\n",
      "Initial State known features:\n",
      "response_variable_label  target\n",
      "Steps:\n",
      "  Order  Step                                      Reward  State Change\n",
      "-------  --------------------------------------  --------  ----------------------------------------------------\n",
      "      1  Infer Response DType                    0.1       response_inferred_dtype  integer\n",
      "      2  Get Log Rows Count                      0.1       log_rows_count  0.343538\n",
      "      3  Is Response Balanced Check              0.1       is_response_balanced  1\n",
      "      4  Is Response Discrete Check              0.1       is_response_discrete  1\n",
      "      5  Is Response Dichotomous Check           0.1       is_response_dichotomous  -1\n",
      "      6  Is Response Positive Values Only Check  0.1       is_response_positive_values_only  1\n",
      "      7  Support Vector Classification           0.533333  score                                       0.633333\n",
      "                                                           support_vector_classification_score_reward  0.633333\n"
     ]
    },
    {
     "data": {
      "text/markdown": [
       "### xd6"
      ],
      "text/plain": [
       "<IPython.core.display.Markdown object>"
      ]
     },
     "metadata": {},
     "output_type": "display_data"
    },
    {
     "name": "stdout",
     "output_type": "stream",
     "text": [
      "\n",
      "Analysis executed at 2023-07-25 19:00:30.224590\n",
      "Final status is Complete\n",
      "Initial State known features:\n",
      "response_variable_label  target\n",
      "Steps:\n",
      "  Order  Step                                      Reward  State Change\n",
      "-------  --------------------------------------  --------  ------------------------------------------\n",
      "      1  Infer Response DType                    0.1       response_inferred_dtype  integer\n",
      "      2  Get Log Rows Count                      0.1       log_rows_count  0.577302\n",
      "      3  Is Response Discrete Check              0.1       is_response_discrete  1\n",
      "      4  Is Response Positive Values Only Check  0.1       is_response_positive_values_only  1\n",
      "      5  Is Response Dichotomous Check           0.1       is_response_dichotomous  1\n",
      "      6  Logistic Regression                     0.913977  score                             0.813977\n",
      "                                                           logistic_regression_score_reward  0.813977\n"
     ]
    },
    {
     "data": {
      "text/markdown": [
       "### monk1"
      ],
      "text/plain": [
       "<IPython.core.display.Markdown object>"
      ]
     },
     "metadata": {},
     "output_type": "display_data"
    },
    {
     "name": "stdout",
     "output_type": "stream",
     "text": [
      "\n",
      "Analysis executed at 2023-07-25 19:00:30.339794\n",
      "Final status is Complete\n",
      "Initial State known features:\n",
      "response_variable_label  target\n",
      "Steps:\n",
      "  Order  Step                                      Reward  State Change\n",
      "-------  --------------------------------------  --------  ------------------------------------------\n",
      "      1  Infer Response DType                    0.1       response_inferred_dtype  integer\n",
      "      2  Get Log Rows Count                      0.1       log_rows_count  0.530347\n",
      "      3  Is Response Discrete Check              0.1       is_response_discrete  1\n",
      "      4  Is Response Positive Values Only Check  0.1       is_response_positive_values_only  1\n",
      "      5  Is Response Dichotomous Check           0.1       is_response_dichotomous  1\n",
      "      6  Logistic Regression                     0.765468  score                             0.665468\n",
      "                                                           logistic_regression_score_reward  0.665468\n"
     ]
    },
    {
     "data": {
      "text/markdown": [
       "### pima"
      ],
      "text/plain": [
       "<IPython.core.display.Markdown object>"
      ]
     },
     "metadata": {},
     "output_type": "display_data"
    },
    {
     "name": "stdout",
     "output_type": "stream",
     "text": [
      "\n",
      "Analysis executed at 2023-07-25 19:00:30.686781\n",
      "Final status is Complete\n",
      "Initial State known features:\n",
      "response_variable_label  target\n",
      "Steps:\n",
      "  Order  Step                                      Reward  State Change\n",
      "-------  --------------------------------------  --------  ------------------------------------------\n",
      "      1  Infer Response DType                    0.1       response_inferred_dtype  integer\n",
      "      2  Get Log Rows Count                      0.1       log_rows_count  0.55745\n",
      "      3  Is Response Discrete Check              0.1       is_response_discrete  1\n",
      "      4  Is Response Positive Values Only Check  0.1       is_response_positive_values_only  1\n",
      "      5  Is Response Dichotomous Check           0.1       is_response_dichotomous  1\n",
      "      6  Logistic Regression                     0.883854  score                             0.783854\n",
      "                                                           logistic_regression_score_reward  0.783854\n"
     ]
    },
    {
     "data": {
      "text/markdown": [
       "### mfeat_fourier"
      ],
      "text/plain": [
       "<IPython.core.display.Markdown object>"
      ]
     },
     "metadata": {},
     "output_type": "display_data"
    },
    {
     "name": "stdout",
     "output_type": "stream",
     "text": [
      "\n",
      "Analysis executed at 2023-07-25 19:00:32.042367\n",
      "Final status is Complete\n",
      "Initial State known features:\n",
      "response_variable_label  target\n",
      "Steps:\n",
      "  Order  Step                                      Reward  State Change\n",
      "-------  --------------------------------------  --------  ------------------------------------------------------------------\n",
      "      1  Infer Response DType                    0.1       response_inferred_dtype  integer\n",
      "      2  Get Log Rows Count                      0.1       log_rows_count  0.637757\n",
      "      3  Is Response Discrete Check              0.1       is_response_discrete  1\n",
      "      4  Is Response Positive Values Only Check  0.1       is_response_positive_values_only  1\n",
      "      5  Is Response Dichotomous Check           0.1       is_response_dichotomous  -1\n",
      "      6  Poisson Regression                      0.837421  score                                                     0.737421\n",
      "                                                           does_poisson_regression_raises_perfect_separation_error  -1\n",
      "                                                           poisson_regression_score_reward                           0.737421\n"
     ]
    },
    {
     "data": {
      "text/markdown": [
       "### clean2"
      ],
      "text/plain": [
       "<IPython.core.display.Markdown object>"
      ]
     },
     "metadata": {},
     "output_type": "display_data"
    },
    {
     "name": "stdout",
     "output_type": "stream",
     "text": [
      "\n",
      "Analysis executed at 2023-07-25 19:00:34.459835\n",
      "Final status is Complete\n",
      "Initial State known features:\n",
      "response_variable_label  target\n",
      "Steps:\n",
      "  Order  Step                          Reward  State Change\n",
      "-------  --------------------------  --------  ------------------------------------\n",
      "      1  Infer Response DType        0.1       response_inferred_dtype  integer\n",
      "      2  Get Log Rows Count          0.1       log_rows_count  0.737908\n",
      "      3  Is Response Discrete Check  0.1       is_response_discrete  1\n",
      "      4  Decision Tree               0.956172  score                       0.881172\n",
      "                                               decision_tree_score_reward  0.881172\n"
     ]
    },
    {
     "data": {
      "text/markdown": [
       "### GAMETES_Epistasis_2_Way_20atts_0.1H_EDM_1_1"
      ],
      "text/plain": [
       "<IPython.core.display.Markdown object>"
      ]
     },
     "metadata": {},
     "output_type": "display_data"
    },
    {
     "name": "stdout",
     "output_type": "stream",
     "text": [
      "\n",
      "Analysis executed at 2023-07-25 19:00:42.263926\n",
      "Final status is Complete\n",
      "Initial State known features:\n",
      "response_variable_label  target\n",
      "Steps:\n",
      "  Order  Step                                       Reward  State Change\n",
      "-------  --------------------------------------  ---------  -----------------------------------------------------\n",
      "      1  Infer Response DType                     0.1       response_inferred_dtype  integer\n",
      "      2  Get Log Rows Count                       0.1       log_rows_count  0.619034\n",
      "      3  Is Response Discrete Check               0.1       is_response_discrete  1\n",
      "      4  Is Response Positive Values Only Check   0.1       is_response_positive_values_only  1\n",
      "      5  Is Response Dichotomous Check            0.1       is_response_dichotomous  1\n",
      "      6  Logistic Regression                     -0.350625  score                              0.549375\n",
      "                                                            logistic_regression_score_reward  -0.450625\n",
      "      7  Support Vector Classification           -0.546875  score                                        0.553125\n",
      "                                                            support_vector_classification_score_reward  -0.446875\n",
      "      8  Get Standarized Variables Ratio          0.1       standarized_variables_ratio  -1\n",
      "      9  Support Vector Classification           -1\n",
      "     10  Support Vector Classification           -1\n"
     ]
    },
    {
     "data": {
      "text/markdown": [
       "### breast_cancer_wisconsin"
      ],
      "text/plain": [
       "<IPython.core.display.Markdown object>"
      ]
     },
     "metadata": {},
     "output_type": "display_data"
    },
    {
     "name": "stdout",
     "output_type": "stream",
     "text": [
      "\n",
      "Analysis executed at 2023-07-25 19:00:45.121895\n",
      "Final status is Complete\n",
      "Initial State known features:\n",
      "response_variable_label  target\n",
      "Steps:\n",
      "  Order  Step                                      Reward  State Change\n",
      "-------  --------------------------------------  --------  ------------------------------------------\n",
      "      1  Infer Response DType                         0.1  response_inferred_dtype  integer\n",
      "      2  Get Log Rows Count                           0.1  log_rows_count  0.532286\n",
      "      3  Is Response Discrete Check                   0.1  is_response_discrete  1\n",
      "      4  Is Response Positive Values Only Check       0.1  is_response_positive_values_only  1\n",
      "      5  Is Response Dichotomous Check                0.1  is_response_dichotomous  1\n",
      "      6  Logistic Regression                          1    score                             0.970123\n",
      "                                                           logistic_regression_score_reward  0.970123\n"
     ]
    },
    {
     "data": {
      "text/markdown": [
       "### sleep"
      ],
      "text/plain": [
       "<IPython.core.display.Markdown object>"
      ]
     },
     "metadata": {},
     "output_type": "display_data"
    },
    {
     "name": "stdout",
     "output_type": "stream",
     "text": [
      "\n",
      "Analysis executed at 2023-07-25 19:00:59.614236\n",
      "Final status is Complete\n",
      "Initial State known features:\n",
      "response_variable_label  target\n",
      "Steps:\n",
      "  Order  Step                          Reward  State Change\n",
      "-------  --------------------------  --------  ------------------------------------\n",
      "      1  Infer Response DType        0.1       response_inferred_dtype  integer\n",
      "      2  Get Log Rows Count          0.1       log_rows_count  0.970813\n",
      "      3  Is Response Discrete Check  0.1       is_response_discrete  1\n",
      "      4  Decision Tree               0.743952  score                       0.668952\n",
      "                                               decision_tree_score_reward  0.668952\n"
     ]
    },
    {
     "data": {
      "text/markdown": [
       "### analcatdata_boxing1"
      ],
      "text/plain": [
       "<IPython.core.display.Markdown object>"
      ]
     },
     "metadata": {},
     "output_type": "display_data"
    },
    {
     "name": "stdout",
     "output_type": "stream",
     "text": [
      "\n",
      "Analysis executed at 2023-07-25 19:00:59.762954\n",
      "Final status is Complete\n",
      "Initial State known features:\n",
      "response_variable_label  target\n",
      "Steps:\n",
      "  Order  Step                             Reward  State Change\n",
      "-------  -----------------------------  --------  --------------------------------------\n",
      "      1  Infer Response DType               0.1   response_inferred_dtype  integer\n",
      "      2  Get Log Rows Count                 0.1   log_rows_count  0.401697\n",
      "      3  Is Response Balanced Check         0.1   is_response_balanced  0.5\n",
      "      4  Is Response Discrete Check         0.1   is_response_discrete  1\n",
      "      5  Is Response Dichotomous Check      0.1   is_response_dichotomous  1\n",
      "      6  Logistic Regression                0.75  score                             0.65\n",
      "                                                  logistic_regression_score_reward  0.65\n"
     ]
    },
    {
     "data": {
      "text/markdown": [
       "### monk2"
      ],
      "text/plain": [
       "<IPython.core.display.Markdown object>"
      ]
     },
     "metadata": {},
     "output_type": "display_data"
    },
    {
     "name": "stdout",
     "output_type": "stream",
     "text": [
      "\n",
      "Analysis executed at 2023-07-25 19:00:59.922892\n",
      "Final status is Complete\n",
      "Initial State known features:\n",
      "response_variable_label  target\n",
      "Steps:\n",
      "  Order  Step                                      Reward  State Change\n",
      "-------  --------------------------------------  --------  ------------------------------------------\n",
      "      1  Infer Response DType                    0.1       response_inferred_dtype  integer\n",
      "      2  Get Log Rows Count                      0.1       log_rows_count  0.536877\n",
      "      3  Is Response Discrete Check              0.1       is_response_discrete  1\n",
      "      4  Is Response Positive Values Only Check  0.1       is_response_positive_values_only  1\n",
      "      5  Is Response Dichotomous Check           0.1       is_response_dichotomous  1\n",
      "      6  Logistic Regression                     0.757238  score                             0.657238\n",
      "                                                           logistic_regression_score_reward  0.657238\n"
     ]
    },
    {
     "data": {
      "text/markdown": [
       "### car_evaluation"
      ],
      "text/plain": [
       "<IPython.core.display.Markdown object>"
      ]
     },
     "metadata": {},
     "output_type": "display_data"
    },
    {
     "name": "stdout",
     "output_type": "stream",
     "text": [
      "\n",
      "Analysis executed at 2023-07-25 19:01:01.805494\n",
      "Final status is Complete\n",
      "Initial State known features:\n",
      "response_variable_label  target\n",
      "Steps:\n",
      "  Order  Step                                      Reward  State Change\n",
      "-------  --------------------------------------  --------  ------------------------------------\n",
      "      1  Infer Response DType                         0.1  response_inferred_dtype  integer\n",
      "      2  Get Log Rows Count                           0.1  log_rows_count  0.625491\n",
      "      3  Is Response Discrete Check                   0.1  is_response_discrete  1\n",
      "      4  Is Response Positive Values Only Check       0.1  is_response_positive_values_only  1\n",
      "      5  Is Response Dichotomous Check                0.1  is_response_dichotomous  -1\n",
      "      6  Poisson Regression                          -0.9  poisson_regression_score_reward  -1\n",
      "      7  Get Log Columns Count                        0.1  log_columns_count  0.447474\n",
      "      8  Get Standarized Variables Ratio              0.1  standarized_variables_ratio  -1\n",
      "      9  Get Correlated Variables Ratio               0.1  correlated_variables_ratio  0.318182\n",
      "     10  Get Correlated Variables Ratio              -1\n"
     ]
    },
    {
     "data": {
      "text/markdown": [
       "### house_votes_84"
      ],
      "text/plain": [
       "<IPython.core.display.Markdown object>"
      ]
     },
     "metadata": {},
     "output_type": "display_data"
    },
    {
     "name": "stdout",
     "output_type": "stream",
     "text": [
      "\n",
      "Analysis executed at 2023-07-25 19:01:04.887150\n",
      "Final status is Complete\n",
      "Initial State known features:\n",
      "response_variable_label  target\n",
      "Steps:\n",
      "  Order  Step                             Reward  State Change\n",
      "-------  -----------------------------  --------  -----------------------------------------\n",
      "      1  Infer Response DType                0.1  response_inferred_dtype  integer\n",
      "      2  Get Log Rows Count                  0.1  log_rows_count  0.509754\n",
      "      3  Is Response Balanced Check          0.1  is_response_balanced  0.5\n",
      "      4  Is Response Discrete Check          0.1  is_response_discrete  1\n",
      "      5  Is Response Dichotomous Check       0.1  is_response_dichotomous  1\n",
      "      6  Logistic Regression                 1    score                             0.96092\n",
      "                                                  logistic_regression_score_reward  0.96092\n"
     ]
    }
   ],
   "source": [
    "from IPython.display import display\n",
    "\n",
    "for result in results:\n",
    "    display(Markdown(f\"### {result['name']}\"))\n",
    "    print(result['analysis'].summary())\n"
   ]
  }
 ],
 "metadata": {
  "kernelspec": {
   "display_name": ".venv",
   "language": "python",
   "name": "python3"
  },
  "language_info": {
   "codemirror_mode": {
    "name": "ipython",
    "version": 3
   },
   "file_extension": ".py",
   "mimetype": "text/x-python",
   "name": "python",
   "nbconvert_exporter": "python",
   "pygments_lexer": "ipython3",
   "version": "3.11.4"
  },
  "orig_nbformat": 4
 },
 "nbformat": 4,
 "nbformat_minor": 2
}
