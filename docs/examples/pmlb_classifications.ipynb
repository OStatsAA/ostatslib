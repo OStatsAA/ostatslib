{
 "cells": [
  {
   "cell_type": "markdown",
   "metadata": {},
   "source": [
    "# PMLB Classification Datasets"
   ]
  },
  {
   "cell_type": "markdown",
   "metadata": {},
   "source": [
    "## Loading classification datasets\n",
    "\n",
    "First, load a trained agent and get PMLB classification datasets names list. Although there are hundreds of datasets available, let's sample 10% from the list to demonstrate the agents capabilities."
   ]
  },
  {
   "cell_type": "code",
   "execution_count": 1,
   "metadata": {
    "tags": [
     "remove-cell"
    ]
   },
   "outputs": [],
   "source": [
    "import warnings\n",
    "warnings.filterwarnings('ignore')"
   ]
  },
  {
   "cell_type": "code",
   "execution_count": 2,
   "metadata": {},
   "outputs": [
    {
     "data": {
      "text/markdown": [
       "Sampled 16 classification datasets: xd6, car, adult, soybean, ring, labor, hayes_roth, spectf, led7, analcatdata_happiness, german, breast_cancer, dermatology, hepatitis, heart_c, GAMETES_Epistasis_2_Way_20atts_0.1H_EDM_1_1."
      ],
      "text/plain": [
       "<IPython.core.display.Markdown object>"
      ]
     },
     "execution_count": 2,
     "metadata": {},
     "output_type": "execute_result"
    }
   ],
   "source": [
    "import random\n",
    "import pmlb\n",
    "from IPython.display import Markdown\n",
    "from ostatslib.agents import PPOAgent\n",
    "\n",
    "SAMPLE_FRACTION = 0.1\n",
    "sample_size = int(len(pmlb.classification_dataset_names) * SAMPLE_FRACTION)\n",
    "sampled_dataset_names = random.sample(pmlb.classification_dataset_names, sample_size)\n",
    "\n",
    "AGENT_FILE = '../trained_ppo_model.zip'\n",
    "agent = PPOAgent(AGENT_FILE)\n",
    "\n",
    "Markdown(f'Sampled {sample_size} classification datasets: {\", \".join(sampled_dataset_names)}.')"
   ]
  },
  {
   "cell_type": "markdown",
   "metadata": {},
   "source": [
    "## Analyses\n",
    "\n",
    "Next step is to fetch data and analyze each selected dataset. PMLB provides a function to fetch data from their repo. It's also required to add to the initial state which variable is the target."
   ]
  },
  {
   "cell_type": "code",
   "execution_count": 7,
   "metadata": {
    "tags": []
   },
   "outputs": [],
   "source": [
    "%%capture\n",
    "from ostatslib.states import State\n",
    "\n",
    "results = []\n",
    "\n",
    "for name in sampled_dataset_names:\n",
    "    data = pmlb.fetch_data(name, local_cache_dir='.pmlb_cache/')\n",
    "    initial_state = State()\n",
    "    initial_state.set('response_variable_label', 'target')\n",
    "    analysis = agent.analyze(data, initial_state)\n",
    "    results.append({\"name\": name, \"analysis\": analysis})"
   ]
  },
  {
   "cell_type": "markdown",
   "metadata": {},
   "source": [
    "## Results"
   ]
  },
  {
   "cell_type": "code",
   "execution_count": 4,
   "metadata": {},
   "outputs": [
    {
     "data": {
      "text/markdown": [
       "### xd6"
      ],
      "text/plain": [
       "<IPython.core.display.Markdown object>"
      ]
     },
     "metadata": {},
     "output_type": "display_data"
    },
    {
     "name": "stdout",
     "output_type": "stream",
     "text": [
      "\n",
      "Analysis executed at 2023-10-15 18:22:26.205159\n",
      "Final status is Not Complete\n",
      "Initial State known features:\n",
      "response_variable_label           target\n",
      "time_convertible_variable\n",
      "response_unique_values_ratio      0.0020554984583761563\n",
      "response_inferred_dtype           integer\n",
      "is_response_discrete              1\n",
      "is_response_positive_values_only  1\n",
      "Steps:\n",
      "  Order  Step                                Reward  State Change\n",
      "-------  --------------------------------  --------  ---------------------------------------\n",
      "      1  Is Response Positive Values Only       0.1\n",
      "      2  Time Convertible Variable Search       0.1  time_convertible_variable\n",
      "      3  Infer Response DType                   0.1  response_inferred_dtype  integer\n",
      "      4  Is Response Discrete                   0.1  is_response_discrete  1\n",
      "      5  Response Unique Values Ratio           0.1  response_unique_values_ratio  0.0020555\n",
      "      6  Response Unique Values Ratio          -1\n",
      "      7  Response Unique Values Ratio          -1\n",
      "      8  Response Unique Values Ratio          -1\n",
      "      9  Response Unique Values Ratio          -1\n",
      "     10  Response Unique Values Ratio          -1\n",
      "     11  Response Unique Values Ratio          -1\n",
      "     12  Response Unique Values Ratio          -1\n",
      "     13  Response Unique Values Ratio          -1\n",
      "     14  Response Unique Values Ratio          -1\n",
      "     15  Response Unique Values Ratio          -1\n"
     ]
    },
    {
     "data": {
      "text/markdown": [
       "### car"
      ],
      "text/plain": [
       "<IPython.core.display.Markdown object>"
      ]
     },
     "metadata": {},
     "output_type": "display_data"
    },
    {
     "name": "stdout",
     "output_type": "stream",
     "text": [
      "\n",
      "Analysis executed at 2023-10-15 18:22:26.278753\n",
      "Final status is Not Complete\n",
      "Initial State known features:\n",
      "response_variable_label           target\n",
      "time_convertible_variable\n",
      "response_unique_values_ratio      0.0023148148148148147\n",
      "response_inferred_dtype           integer\n",
      "is_response_discrete              1\n",
      "is_response_positive_values_only  1\n",
      "Steps:\n",
      "  Order  Step                                Reward  State Change\n",
      "-------  --------------------------------  --------  ----------------------------------------\n",
      "      1  Is Response Positive Values Only       0.1\n",
      "      2  Time Convertible Variable Search       0.1  time_convertible_variable\n",
      "      3  Infer Response DType                   0.1  response_inferred_dtype  integer\n",
      "      4  Is Response Discrete                   0.1  is_response_discrete  1\n",
      "      5  Response Unique Values Ratio           0.1  response_unique_values_ratio  0.00231481\n",
      "      6  Response Unique Values Ratio          -1\n",
      "      7  Response Unique Values Ratio          -1\n",
      "      8  Response Unique Values Ratio          -1\n",
      "      9  Response Unique Values Ratio          -1\n",
      "     10  Response Unique Values Ratio          -1\n",
      "     11  Response Unique Values Ratio          -1\n",
      "     12  Response Unique Values Ratio          -1\n",
      "     13  Response Unique Values Ratio          -1\n",
      "     14  Response Unique Values Ratio          -1\n",
      "     15  Response Unique Values Ratio          -1\n"
     ]
    },
    {
     "data": {
      "text/markdown": [
       "### adult"
      ],
      "text/plain": [
       "<IPython.core.display.Markdown object>"
      ]
     },
     "metadata": {},
     "output_type": "display_data"
    },
    {
     "name": "stdout",
     "output_type": "stream",
     "text": [
      "\n",
      "Analysis executed at 2023-10-15 18:22:26.405806\n",
      "Final status is Not Complete\n",
      "Initial State known features:\n",
      "response_variable_label           target\n",
      "time_convertible_variable\n",
      "response_unique_values_ratio      4.0948364112853693e-05\n",
      "response_inferred_dtype           integer\n",
      "is_response_discrete              1\n",
      "is_response_positive_values_only  1\n",
      "Steps:\n",
      "  Order  Step                                Reward  State Change\n",
      "-------  --------------------------------  --------  -----------------------------------------\n",
      "      1  Is Response Positive Values Only       0.1\n",
      "      2  Time Convertible Variable Search       0.1  time_convertible_variable\n",
      "      3  Infer Response DType                   0.1  response_inferred_dtype  integer\n",
      "      4  Is Response Discrete                   0.1  is_response_discrete  1\n",
      "      5  Response Unique Values Ratio           0.1  response_unique_values_ratio  4.09484e-05\n",
      "      6  Response Unique Values Ratio          -1\n",
      "      7  Response Unique Values Ratio          -1\n",
      "      8  Response Unique Values Ratio          -1\n",
      "      9  Response Unique Values Ratio          -1\n",
      "     10  Response Unique Values Ratio          -1\n",
      "     11  Response Unique Values Ratio          -1\n",
      "     12  Response Unique Values Ratio          -1\n",
      "     13  Response Unique Values Ratio          -1\n",
      "     14  Response Unique Values Ratio          -1\n",
      "     15  Response Unique Values Ratio          -1\n"
     ]
    },
    {
     "data": {
      "text/markdown": [
       "### soybean"
      ],
      "text/plain": [
       "<IPython.core.display.Markdown object>"
      ]
     },
     "metadata": {},
     "output_type": "display_data"
    },
    {
     "name": "stdout",
     "output_type": "stream",
     "text": [
      "\n",
      "Analysis executed at 2023-10-15 18:22:26.459962\n",
      "Final status is Not Complete\n",
      "Initial State known features:\n",
      "response_variable_label           target\n",
      "time_convertible_variable\n",
      "response_unique_values_ratio      0.02666666666666667\n",
      "response_inferred_dtype           integer\n",
      "is_response_discrete              1\n",
      "is_response_positive_values_only  1\n",
      "Steps:\n",
      "  Order  Step                                Reward  State Change\n",
      "-------  --------------------------------  --------  ---------------------------------------\n",
      "      1  Is Response Positive Values Only       0.1\n",
      "      2  Time Convertible Variable Search       0.1  time_convertible_variable\n",
      "      3  Infer Response DType                   0.1  response_inferred_dtype  integer\n",
      "      4  Is Response Discrete                   0.1  is_response_discrete  1\n",
      "      5  Response Unique Values Ratio           0.1  response_unique_values_ratio  0.0266667\n",
      "      6  Response Unique Values Ratio          -1\n",
      "      7  Response Unique Values Ratio          -1\n",
      "      8  Response Unique Values Ratio          -1\n",
      "      9  Response Unique Values Ratio          -1\n",
      "     10  Response Unique Values Ratio          -1\n",
      "     11  Response Unique Values Ratio          -1\n",
      "     12  Response Unique Values Ratio          -1\n",
      "     13  Response Unique Values Ratio          -1\n",
      "     14  Response Unique Values Ratio          -1\n",
      "     15  Response Unique Values Ratio          -1\n"
     ]
    },
    {
     "data": {
      "text/markdown": [
       "### ring"
      ],
      "text/plain": [
       "<IPython.core.display.Markdown object>"
      ]
     },
     "metadata": {},
     "output_type": "display_data"
    },
    {
     "name": "stdout",
     "output_type": "stream",
     "text": [
      "\n",
      "Analysis executed at 2023-10-15 18:22:26.528154\n",
      "Final status is Not Complete\n",
      "Initial State known features:\n",
      "response_variable_label           target\n",
      "time_convertible_variable\n",
      "response_unique_values_ratio      0.0002702702702702703\n",
      "response_inferred_dtype           integer\n",
      "is_response_discrete              1\n",
      "is_response_positive_values_only  1\n",
      "Steps:\n",
      "  Order  Step                                Reward  State Change\n",
      "-------  --------------------------------  --------  ----------------------------------------\n",
      "      1  Is Response Positive Values Only       0.1\n",
      "      2  Time Convertible Variable Search       0.1  time_convertible_variable\n",
      "      3  Infer Response DType                   0.1  response_inferred_dtype  integer\n",
      "      4  Is Response Discrete                   0.1  is_response_discrete  1\n",
      "      5  Response Unique Values Ratio           0.1  response_unique_values_ratio  0.00027027\n",
      "      6  Response Unique Values Ratio          -1\n",
      "      7  Response Unique Values Ratio          -1\n",
      "      8  Response Unique Values Ratio          -1\n",
      "      9  Response Unique Values Ratio          -1\n",
      "     10  Response Unique Values Ratio          -1\n",
      "     11  Response Unique Values Ratio          -1\n",
      "     12  Response Unique Values Ratio          -1\n",
      "     13  Response Unique Values Ratio          -1\n",
      "     14  Response Unique Values Ratio          -1\n",
      "     15  Response Unique Values Ratio          -1\n"
     ]
    },
    {
     "data": {
      "text/markdown": [
       "### labor"
      ],
      "text/plain": [
       "<IPython.core.display.Markdown object>"
      ]
     },
     "metadata": {},
     "output_type": "display_data"
    },
    {
     "name": "stdout",
     "output_type": "stream",
     "text": [
      "\n",
      "Analysis executed at 2023-10-15 18:22:26.604123\n",
      "Final status is Not Complete\n",
      "Initial State known features:\n",
      "response_variable_label           target\n",
      "time_convertible_variable\n",
      "response_unique_values_ratio      0.03508771929824561\n",
      "response_inferred_dtype           integer\n",
      "is_response_discrete              1\n",
      "is_response_positive_values_only  1\n",
      "Steps:\n",
      "  Order  Step                                Reward  State Change\n",
      "-------  --------------------------------  --------  ---------------------------------------\n",
      "      1  Is Response Positive Values Only       0.1\n",
      "      2  Time Convertible Variable Search       0.1  time_convertible_variable\n",
      "      3  Infer Response DType                   0.1  response_inferred_dtype  integer\n",
      "      4  Is Response Discrete                   0.1  is_response_discrete  1\n",
      "      5  Response Unique Values Ratio           0.1  response_unique_values_ratio  0.0350877\n",
      "      6  Response Unique Values Ratio          -1\n",
      "      7  Response Unique Values Ratio          -1\n",
      "      8  Response Unique Values Ratio          -1\n",
      "      9  Response Unique Values Ratio          -1\n",
      "     10  Response Unique Values Ratio          -1\n",
      "     11  Response Unique Values Ratio          -1\n",
      "     12  Response Unique Values Ratio          -1\n",
      "     13  Response Unique Values Ratio          -1\n",
      "     14  Response Unique Values Ratio          -1\n",
      "     15  Response Unique Values Ratio          -1\n"
     ]
    },
    {
     "data": {
      "text/markdown": [
       "### hayes_roth"
      ],
      "text/plain": [
       "<IPython.core.display.Markdown object>"
      ]
     },
     "metadata": {},
     "output_type": "display_data"
    },
    {
     "name": "stdout",
     "output_type": "stream",
     "text": [
      "\n",
      "Analysis executed at 2023-10-15 18:22:26.656492\n",
      "Final status is Not Complete\n",
      "Initial State known features:\n",
      "response_variable_label           target\n",
      "time_convertible_variable\n",
      "response_unique_values_ratio      0.01875\n",
      "response_inferred_dtype           integer\n",
      "is_response_discrete              1\n",
      "is_response_positive_values_only  1\n",
      "Steps:\n",
      "  Order  Step                                Reward  State Change\n",
      "-------  --------------------------------  --------  -------------------------------------\n",
      "      1  Is Response Positive Values Only       0.1\n",
      "      2  Time Convertible Variable Search       0.1  time_convertible_variable\n",
      "      3  Infer Response DType                   0.1  response_inferred_dtype  integer\n",
      "      4  Is Response Discrete                   0.1  is_response_discrete  1\n",
      "      5  Response Unique Values Ratio           0.1  response_unique_values_ratio  0.01875\n",
      "      6  Response Unique Values Ratio          -1\n",
      "      7  Response Unique Values Ratio          -1\n",
      "      8  Response Unique Values Ratio          -1\n",
      "      9  Response Unique Values Ratio          -1\n",
      "     10  Response Unique Values Ratio          -1\n",
      "     11  Response Unique Values Ratio          -1\n",
      "     12  Response Unique Values Ratio          -1\n",
      "     13  Response Unique Values Ratio          -1\n",
      "     14  Response Unique Values Ratio          -1\n",
      "     15  Response Unique Values Ratio          -1\n"
     ]
    },
    {
     "data": {
      "text/markdown": [
       "### spectf"
      ],
      "text/plain": [
       "<IPython.core.display.Markdown object>"
      ]
     },
     "metadata": {},
     "output_type": "display_data"
    },
    {
     "name": "stdout",
     "output_type": "stream",
     "text": [
      "\n",
      "Analysis executed at 2023-10-15 18:22:26.702374\n",
      "Final status is Not Complete\n",
      "Initial State known features:\n",
      "response_variable_label           target\n",
      "time_convertible_variable\n",
      "response_unique_values_ratio      0.0057306590257879654\n",
      "response_inferred_dtype           integer\n",
      "is_response_discrete              1\n",
      "is_response_positive_values_only  1\n",
      "Steps:\n",
      "  Order  Step                                Reward  State Change\n",
      "-------  --------------------------------  --------  ----------------------------------------\n",
      "      1  Is Response Positive Values Only       0.1\n",
      "      2  Time Convertible Variable Search       0.1  time_convertible_variable\n",
      "      3  Infer Response DType                   0.1  response_inferred_dtype  integer\n",
      "      4  Is Response Discrete                   0.1  is_response_discrete  1\n",
      "      5  Response Unique Values Ratio           0.1  response_unique_values_ratio  0.00573066\n",
      "      6  Response Unique Values Ratio          -1\n",
      "      7  Response Unique Values Ratio          -1\n",
      "      8  Response Unique Values Ratio          -1\n",
      "      9  Response Unique Values Ratio          -1\n",
      "     10  Response Unique Values Ratio          -1\n",
      "     11  Response Unique Values Ratio          -1\n",
      "     12  Response Unique Values Ratio          -1\n",
      "     13  Response Unique Values Ratio          -1\n",
      "     14  Response Unique Values Ratio          -1\n",
      "     15  Response Unique Values Ratio          -1\n"
     ]
    },
    {
     "data": {
      "text/markdown": [
       "### led7"
      ],
      "text/plain": [
       "<IPython.core.display.Markdown object>"
      ]
     },
     "metadata": {},
     "output_type": "display_data"
    },
    {
     "name": "stdout",
     "output_type": "stream",
     "text": [
      "\n",
      "Analysis executed at 2023-10-15 18:22:26.806781\n",
      "Final status is Not Complete\n",
      "Initial State known features:\n",
      "response_variable_label           target\n",
      "time_convertible_variable\n",
      "response_unique_values_ratio      0.003125\n",
      "response_inferred_dtype           integer\n",
      "is_response_discrete              1\n",
      "is_response_positive_values_only  1\n",
      "Steps:\n",
      "  Order  Step                                Reward  State Change\n",
      "-------  --------------------------------  --------  --------------------------------------\n",
      "      1  Is Response Positive Values Only       0.1\n",
      "      2  Time Convertible Variable Search       0.1  time_convertible_variable\n",
      "      3  Infer Response DType                   0.1  response_inferred_dtype  integer\n",
      "      4  Is Response Discrete                   0.1  is_response_discrete  1\n",
      "      5  Response Unique Values Ratio           0.1  response_unique_values_ratio  0.003125\n",
      "      6  Response Unique Values Ratio          -1\n",
      "      7  Response Unique Values Ratio          -1\n",
      "      8  Response Unique Values Ratio          -1\n",
      "      9  Response Unique Values Ratio          -1\n",
      "     10  Response Unique Values Ratio          -1\n",
      "     11  Response Unique Values Ratio          -1\n",
      "     12  Response Unique Values Ratio          -1\n",
      "     13  Response Unique Values Ratio          -1\n",
      "     14  Response Unique Values Ratio          -1\n",
      "     15  Response Unique Values Ratio          -1\n"
     ]
    },
    {
     "data": {
      "text/markdown": [
       "### analcatdata_happiness"
      ],
      "text/plain": [
       "<IPython.core.display.Markdown object>"
      ]
     },
     "metadata": {},
     "output_type": "display_data"
    },
    {
     "name": "stdout",
     "output_type": "stream",
     "text": [
      "\n",
      "Analysis executed at 2023-10-15 18:22:26.980224\n",
      "Final status is Not Complete\n",
      "Initial State known features:\n",
      "response_variable_label           target\n",
      "time_convertible_variable\n",
      "response_unique_values_ratio      0.05\n",
      "response_inferred_dtype           integer\n",
      "is_response_discrete              1\n",
      "is_response_positive_values_only  1\n",
      "Steps:\n",
      "  Order  Step                                Reward  State Change\n",
      "-------  --------------------------------  --------  ----------------------------------\n",
      "      1  Is Response Positive Values Only       0.1\n",
      "      2  Time Convertible Variable Search       0.1  time_convertible_variable\n",
      "      3  Infer Response DType                   0.1  response_inferred_dtype  integer\n",
      "      4  Is Response Discrete                   0.1  is_response_discrete  1\n",
      "      5  Response Unique Values Ratio           0.1  response_unique_values_ratio  0.05\n",
      "      6  Response Unique Values Ratio          -1\n",
      "      7  Response Unique Values Ratio          -1\n",
      "      8  Response Unique Values Ratio          -1\n",
      "      9  Response Unique Values Ratio          -1\n",
      "     10  Response Unique Values Ratio          -1\n",
      "     11  Response Unique Values Ratio          -1\n",
      "     12  Response Unique Values Ratio          -1\n",
      "     13  Response Unique Values Ratio          -1\n",
      "     14  Response Unique Values Ratio          -1\n",
      "     15  Response Unique Values Ratio          -1\n"
     ]
    },
    {
     "data": {
      "text/markdown": [
       "### german"
      ],
      "text/plain": [
       "<IPython.core.display.Markdown object>"
      ]
     },
     "metadata": {},
     "output_type": "display_data"
    },
    {
     "name": "stdout",
     "output_type": "stream",
     "text": [
      "\n",
      "Analysis executed at 2023-10-15 18:22:27.030585\n",
      "Final status is Not Complete\n",
      "Initial State known features:\n",
      "response_variable_label           target\n",
      "time_convertible_variable\n",
      "response_unique_values_ratio      0.002\n",
      "response_inferred_dtype           integer\n",
      "is_response_discrete              1\n",
      "is_response_positive_values_only  1\n",
      "Steps:\n",
      "  Order  Step                                Reward  State Change\n",
      "-------  --------------------------------  --------  -----------------------------------\n",
      "      1  Is Response Positive Values Only       0.1\n",
      "      2  Time Convertible Variable Search       0.1  time_convertible_variable\n",
      "      3  Infer Response DType                   0.1  response_inferred_dtype  integer\n",
      "      4  Is Response Discrete                   0.1  is_response_discrete  1\n",
      "      5  Response Unique Values Ratio           0.1  response_unique_values_ratio  0.002\n",
      "      6  Response Unique Values Ratio          -1\n",
      "      7  Response Unique Values Ratio          -1\n",
      "      8  Response Unique Values Ratio          -1\n",
      "      9  Response Unique Values Ratio          -1\n",
      "     10  Response Unique Values Ratio          -1\n",
      "     11  Response Unique Values Ratio          -1\n",
      "     12  Response Unique Values Ratio          -1\n",
      "     13  Response Unique Values Ratio          -1\n",
      "     14  Response Unique Values Ratio          -1\n",
      "     15  Response Unique Values Ratio          -1\n"
     ]
    },
    {
     "data": {
      "text/markdown": [
       "### breast_cancer"
      ],
      "text/plain": [
       "<IPython.core.display.Markdown object>"
      ]
     },
     "metadata": {},
     "output_type": "display_data"
    },
    {
     "name": "stdout",
     "output_type": "stream",
     "text": [
      "\n",
      "Analysis executed at 2023-10-15 18:22:27.083031\n",
      "Final status is Not Complete\n",
      "Initial State known features:\n",
      "response_variable_label           target\n",
      "time_convertible_variable\n",
      "response_unique_values_ratio      0.006993006993006993\n",
      "response_inferred_dtype           integer\n",
      "is_response_discrete              1\n",
      "is_response_positive_values_only  1\n",
      "Steps:\n",
      "  Order  Step                                Reward  State Change\n",
      "-------  --------------------------------  --------  ----------------------------------------\n",
      "      1  Is Response Positive Values Only       0.1\n",
      "      2  Time Convertible Variable Search       0.1  time_convertible_variable\n",
      "      3  Infer Response DType                   0.1  response_inferred_dtype  integer\n",
      "      4  Is Response Discrete                   0.1  is_response_discrete  1\n",
      "      5  Response Unique Values Ratio           0.1  response_unique_values_ratio  0.00699301\n",
      "      6  Response Unique Values Ratio          -1\n",
      "      7  Response Unique Values Ratio          -1\n",
      "      8  Response Unique Values Ratio          -1\n",
      "      9  Response Unique Values Ratio          -1\n",
      "     10  Response Unique Values Ratio          -1\n",
      "     11  Response Unique Values Ratio          -1\n",
      "     12  Response Unique Values Ratio          -1\n",
      "     13  Response Unique Values Ratio          -1\n",
      "     14  Response Unique Values Ratio          -1\n",
      "     15  Response Unique Values Ratio          -1\n"
     ]
    },
    {
     "data": {
      "text/markdown": [
       "### dermatology"
      ],
      "text/plain": [
       "<IPython.core.display.Markdown object>"
      ]
     },
     "metadata": {},
     "output_type": "display_data"
    },
    {
     "name": "stdout",
     "output_type": "stream",
     "text": [
      "\n",
      "Analysis executed at 2023-10-15 18:22:27.132819\n",
      "Final status is Not Complete\n",
      "Initial State known features:\n",
      "response_variable_label           target\n",
      "time_convertible_variable\n",
      "response_unique_values_ratio      0.01639344262295082\n",
      "response_inferred_dtype           integer\n",
      "is_response_discrete              1\n",
      "is_response_positive_values_only  1\n",
      "Steps:\n",
      "  Order  Step                                Reward  State Change\n",
      "-------  --------------------------------  --------  ---------------------------------------\n",
      "      1  Is Response Positive Values Only       0.1\n",
      "      2  Time Convertible Variable Search       0.1  time_convertible_variable\n",
      "      3  Infer Response DType                   0.1  response_inferred_dtype  integer\n",
      "      4  Is Response Discrete                   0.1  is_response_discrete  1\n",
      "      5  Response Unique Values Ratio           0.1  response_unique_values_ratio  0.0163934\n",
      "      6  Response Unique Values Ratio          -1\n",
      "      7  Response Unique Values Ratio          -1\n",
      "      8  Response Unique Values Ratio          -1\n",
      "      9  Response Unique Values Ratio          -1\n",
      "     10  Response Unique Values Ratio          -1\n",
      "     11  Response Unique Values Ratio          -1\n",
      "     12  Response Unique Values Ratio          -1\n",
      "     13  Response Unique Values Ratio          -1\n",
      "     14  Response Unique Values Ratio          -1\n",
      "     15  Response Unique Values Ratio          -1\n"
     ]
    },
    {
     "data": {
      "text/markdown": [
       "### hepatitis"
      ],
      "text/plain": [
       "<IPython.core.display.Markdown object>"
      ]
     },
     "metadata": {},
     "output_type": "display_data"
    },
    {
     "name": "stdout",
     "output_type": "stream",
     "text": [
      "\n",
      "Analysis executed at 2023-10-15 18:22:29.101959\n",
      "Final status is Not Complete\n",
      "Initial State known features:\n",
      "response_variable_label           target\n",
      "time_convertible_variable\n",
      "response_unique_values_ratio      0.012903225806451613\n",
      "response_inferred_dtype           integer\n",
      "is_response_discrete              1\n",
      "is_response_positive_values_only  1\n",
      "Steps:\n",
      "  Order  Step                                Reward  State Change\n",
      "-------  --------------------------------  --------  ---------------------------------------\n",
      "      1  Is Response Positive Values Only       0.1\n",
      "      2  Time Convertible Variable Search       0.1  time_convertible_variable\n",
      "      3  Infer Response DType                   0.1  response_inferred_dtype  integer\n",
      "      4  Is Response Discrete                   0.1  is_response_discrete  1\n",
      "      5  Response Unique Values Ratio           0.1  response_unique_values_ratio  0.0129032\n",
      "      6  Response Unique Values Ratio          -1\n",
      "      7  Response Unique Values Ratio          -1\n",
      "      8  Response Unique Values Ratio          -1\n",
      "      9  Response Unique Values Ratio          -1\n",
      "     10  Response Unique Values Ratio          -1\n",
      "     11  Response Unique Values Ratio          -1\n",
      "     12  Response Unique Values Ratio          -1\n",
      "     13  Response Unique Values Ratio          -1\n",
      "     14  Response Unique Values Ratio          -1\n",
      "     15  Response Unique Values Ratio          -1\n"
     ]
    },
    {
     "data": {
      "text/markdown": [
       "### heart_c"
      ],
      "text/plain": [
       "<IPython.core.display.Markdown object>"
      ]
     },
     "metadata": {},
     "output_type": "display_data"
    },
    {
     "name": "stdout",
     "output_type": "stream",
     "text": [
      "\n",
      "Analysis executed at 2023-10-15 18:22:29.211604\n",
      "Final status is Not Complete\n",
      "Initial State known features:\n",
      "response_variable_label           target\n",
      "time_convertible_variable\n",
      "response_unique_values_ratio      0.006600660066006601\n",
      "response_inferred_dtype           integer\n",
      "is_response_discrete              1\n",
      "is_response_positive_values_only  1\n",
      "Steps:\n",
      "  Order  Step                                Reward  State Change\n",
      "-------  --------------------------------  --------  ----------------------------------------\n",
      "      1  Is Response Positive Values Only       0.1\n",
      "      2  Time Convertible Variable Search       0.1  time_convertible_variable\n",
      "      3  Infer Response DType                   0.1  response_inferred_dtype  integer\n",
      "      4  Is Response Discrete                   0.1  is_response_discrete  1\n",
      "      5  Response Unique Values Ratio           0.1  response_unique_values_ratio  0.00660066\n",
      "      6  Response Unique Values Ratio          -1\n",
      "      7  Response Unique Values Ratio          -1\n",
      "      8  Response Unique Values Ratio          -1\n",
      "      9  Response Unique Values Ratio          -1\n",
      "     10  Response Unique Values Ratio          -1\n",
      "     11  Response Unique Values Ratio          -1\n",
      "     12  Response Unique Values Ratio          -1\n",
      "     13  Response Unique Values Ratio          -1\n",
      "     14  Response Unique Values Ratio          -1\n",
      "     15  Response Unique Values Ratio          -1\n"
     ]
    },
    {
     "data": {
      "text/markdown": [
       "### GAMETES_Epistasis_2_Way_20atts_0.1H_EDM_1_1"
      ],
      "text/plain": [
       "<IPython.core.display.Markdown object>"
      ]
     },
     "metadata": {},
     "output_type": "display_data"
    },
    {
     "name": "stdout",
     "output_type": "stream",
     "text": [
      "\n",
      "Analysis executed at 2023-10-15 18:22:29.322284\n",
      "Final status is Not Complete\n",
      "Initial State known features:\n",
      "response_variable_label           target\n",
      "time_convertible_variable\n",
      "response_unique_values_ratio      0.00125\n",
      "response_inferred_dtype           integer\n",
      "is_response_discrete              1\n",
      "is_response_positive_values_only  1\n",
      "Steps:\n",
      "  Order  Step                                Reward  State Change\n",
      "-------  --------------------------------  --------  -------------------------------------\n",
      "      1  Is Response Positive Values Only       0.1\n",
      "      2  Time Convertible Variable Search       0.1  time_convertible_variable\n",
      "      3  Infer Response DType                   0.1  response_inferred_dtype  integer\n",
      "      4  Is Response Discrete                   0.1  is_response_discrete  1\n",
      "      5  Response Unique Values Ratio           0.1  response_unique_values_ratio  0.00125\n",
      "      6  Response Unique Values Ratio          -1\n",
      "      7  Response Unique Values Ratio          -1\n",
      "      8  Response Unique Values Ratio          -1\n",
      "      9  Response Unique Values Ratio          -1\n",
      "     10  Response Unique Values Ratio          -1\n",
      "     11  Response Unique Values Ratio          -1\n",
      "     12  Response Unique Values Ratio          -1\n",
      "     13  Response Unique Values Ratio          -1\n",
      "     14  Response Unique Values Ratio          -1\n",
      "     15  Response Unique Values Ratio          -1\n"
     ]
    }
   ],
   "source": [
    "from IPython.display import display\n",
    "\n",
    "for result in results:\n",
    "    display(Markdown(f\"### {result['name']}\"))\n",
    "    print(result['analysis'].summary())\n"
   ]
  }
 ],
 "metadata": {
  "kernelspec": {
   "display_name": ".venv",
   "language": "python",
   "name": "python3"
  },
  "language_info": {
   "codemirror_mode": {
    "name": "ipython",
    "version": 3
   },
   "file_extension": ".py",
   "mimetype": "text/x-python",
   "name": "python",
   "nbconvert_exporter": "python",
   "pygments_lexer": "ipython3",
   "version": "3.11.4"
  },
  "orig_nbformat": 4
 },
 "nbformat": 4,
 "nbformat_minor": 2
}
