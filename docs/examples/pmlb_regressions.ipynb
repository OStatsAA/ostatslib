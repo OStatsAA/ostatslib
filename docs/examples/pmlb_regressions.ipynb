{
 "cells": [
  {
   "cell_type": "markdown",
   "metadata": {},
   "source": [
    "# PMLB Regression Datasets"
   ]
  },
  {
   "cell_type": "markdown",
   "metadata": {},
   "source": [
    "## Loading regression datasets\n",
    "\n",
    "First, load a trained agent and get PMLB regression datasets names list. Although there are hundreds of datasets available, let's sample 10% from the list to demonstrate the agents capabilities."
   ]
  },
  {
   "cell_type": "code",
   "execution_count": 1,
   "metadata": {
    "tags": [
     "remove-cell"
    ]
   },
   "outputs": [],
   "source": [
    "import warnings\n",
    "warnings.filterwarnings('ignore')"
   ]
  },
  {
   "cell_type": "code",
   "execution_count": 2,
   "metadata": {},
   "outputs": [
    {
     "data": {
      "text/markdown": [
       "Sampled 12 regression datasets: 622_fri_c2_1000_50, 617_fri_c3_500_5, 207_autoPrice, 626_fri_c2_500_50, 648_fri_c1_250_50, 523_analcatdata_neavote, 1089_USCrime, 618_fri_c3_1000_50, 604_fri_c4_500_10, 344_mv, 537_houses, 645_fri_c3_500_50."
      ],
      "text/plain": [
       "<IPython.core.display.Markdown object>"
      ]
     },
     "execution_count": 2,
     "metadata": {},
     "output_type": "execute_result"
    }
   ],
   "source": [
    "import random\n",
    "import pmlb\n",
    "from IPython.display import Markdown\n",
    "from ostatslib.agents import PPOAgent\n",
    "\n",
    "SAMPLE_FRACTION = 0.1\n",
    "sample_size = int(len(pmlb.regression_dataset_names) * SAMPLE_FRACTION)\n",
    "sampled_dataset_names = random.sample(pmlb.regression_dataset_names, sample_size)\n",
    "\n",
    "AGENT_FILE = '../trained_ppo_model.zip'\n",
    "agent = PPOAgent(AGENT_FILE)\n",
    "\n",
    "Markdown(f'Sampled {sample_size} regression datasets: {\", \".join(sampled_dataset_names)}.')"
   ]
  },
  {
   "cell_type": "markdown",
   "metadata": {},
   "source": [
    "## Analyses\n",
    "\n",
    "Next step is to fetch data and analyze each selected dataset. PMLB provides a function to fetch data from their repo. It's also required to add to the initial state which variable is the target."
   ]
  },
  {
   "cell_type": "code",
   "execution_count": 3,
   "metadata": {},
   "outputs": [],
   "source": [
    "%%capture\n",
    "from ostatslib.states import State\n",
    "\n",
    "results = []\n",
    "\n",
    "for name in sampled_dataset_names:\n",
    "    data = pmlb.fetch_data(name, local_cache_dir='.pmlb_cache/')\n",
    "    initial_state = State()\n",
    "    initial_state.set('response_variable_label', 'target')\n",
    "    analysis = agent.analyze(data, initial_state)\n",
    "    results.append({\"name\": name, \"analysis\": analysis})"
   ]
  },
  {
   "cell_type": "markdown",
   "metadata": {},
   "source": [
    "## Results"
   ]
  },
  {
   "cell_type": "code",
   "execution_count": 4,
   "metadata": {},
   "outputs": [
    {
     "data": {
      "text/markdown": [
       "### 622_fri_c2_1000_50"
      ],
      "text/plain": [
       "<IPython.core.display.Markdown object>"
      ]
     },
     "metadata": {},
     "output_type": "display_data"
    },
    {
     "name": "stdout",
     "output_type": "stream",
     "text": [
      "\n",
      "Analysis executed at 2023-07-25 19:01:46.844361\n",
      "Final status is Complete\n",
      "Initial State known features:\n",
      "response_variable_label  target\n",
      "Steps:\n",
      "  Order  Step                                       Reward  State Change\n",
      "-------  --------------------------------------  ---------  -------------------------------------------------\n",
      "      1  Infer Response DType                     0.1       response_inferred_dtype  floating\n",
      "      2  Is Response Quantitative Check           0.1       is_response_quantitative  1\n",
      "      3  Is Response Dichotomous Check            0.1       is_response_dichotomous  -1\n",
      "      4  Get Log Rows Count                       0.1       log_rows_count  0.579598\n",
      "      5  Is Response Balanced Check               0.1       is_response_balanced  1\n",
      "      6  Is Response Positive Values Only Check   0.1       is_response_positive_values_only  -1\n",
      "      7  Support Vector Regression               -0.869918  score                                    0.230082\n",
      "                                                            support_vector_regression_score_reward  -0.769918\n",
      "      8  Get Standarized Variables Ratio          0.1       standarized_variables_ratio  1\n",
      "      9  Get Log Columns Count                    0.1       log_columns_count  0.56919\n",
      "     10  Is Response Balanced Check              -1\n"
     ]
    },
    {
     "data": {
      "text/markdown": [
       "### 617_fri_c3_500_5"
      ],
      "text/plain": [
       "<IPython.core.display.Markdown object>"
      ]
     },
     "metadata": {},
     "output_type": "display_data"
    },
    {
     "name": "stdout",
     "output_type": "stream",
     "text": [
      "\n",
      "Analysis executed at 2023-07-25 19:01:48.749026\n",
      "Final status is Complete\n",
      "Initial State known features:\n",
      "response_variable_label  target\n",
      "Steps:\n",
      "  Order  Step                                      Reward  State Change\n",
      "-------  --------------------------------------  --------  ------------------------------------------------\n",
      "      1  Infer Response DType                    0.1       response_inferred_dtype  floating\n",
      "      2  Is Response Quantitative Check          0.1       is_response_quantitative  1\n",
      "      3  Is Response Dichotomous Check           0.1       is_response_dichotomous  -1\n",
      "      4  Get Log Rows Count                      0.1       log_rows_count  0.521439\n",
      "      5  Is Response Balanced Check              0.1       is_response_balanced  1\n",
      "      6  Is Response Positive Values Only Check  0.1       is_response_positive_values_only  -1\n",
      "      7  Support Vector Regression               0.828845  score                                   0.928845\n",
      "                                                           support_vector_regression_score_reward  0.928845\n"
     ]
    },
    {
     "data": {
      "text/markdown": [
       "### 207_autoPrice"
      ],
      "text/plain": [
       "<IPython.core.display.Markdown object>"
      ]
     },
     "metadata": {},
     "output_type": "display_data"
    },
    {
     "name": "stdout",
     "output_type": "stream",
     "text": [
      "\n",
      "Analysis executed at 2023-07-25 19:01:48.797859\n",
      "Final status is Complete\n",
      "Initial State known features:\n",
      "response_variable_label  target\n",
      "Steps:\n",
      "  Order  Step                                      Reward  State Change\n",
      "-------  --------------------------------------  --------  -----------------------------------------------------------\n",
      "      1  Infer Response DType                         0.1  response_inferred_dtype  floating\n",
      "      2  Is Response Quantitative Check               0.1  is_response_quantitative  1\n",
      "      3  Is Response Dichotomous Check                0.1  is_response_dichotomous  -1\n",
      "      4  Get Log Rows Count                           0.1  log_rows_count  0.425309\n",
      "      5  Is Response Discrete Check                   0.1  is_response_discrete  1\n",
      "      6  Get Standarized Variables Ratio              0.1  standarized_variables_ratio  -1\n",
      "      7  Is Response Positive Values Only Check       0.1  is_response_positive_values_only  1\n",
      "      8  Poisson Regression                           1    score                                                     1\n",
      "                                                           does_poisson_regression_raises_perfect_separation_error  -1\n",
      "                                                           poisson_regression_score_reward                           1\n"
     ]
    },
    {
     "data": {
      "text/markdown": [
       "### 626_fri_c2_500_50"
      ],
      "text/plain": [
       "<IPython.core.display.Markdown object>"
      ]
     },
     "metadata": {},
     "output_type": "display_data"
    },
    {
     "name": "stdout",
     "output_type": "stream",
     "text": [
      "\n",
      "Analysis executed at 2023-07-25 19:01:49.639149\n",
      "Final status is Complete\n",
      "Initial State known features:\n",
      "response_variable_label  target\n",
      "Steps:\n",
      "  Order  Step                                       Reward  State Change\n",
      "-------  --------------------------------------  ---------  -------------------------------------------------\n",
      "      1  Infer Response DType                     0.1       response_inferred_dtype  floating\n",
      "      2  Is Response Quantitative Check           0.1       is_response_quantitative  1\n",
      "      3  Is Response Dichotomous Check            0.1       is_response_dichotomous  -1\n",
      "      4  Get Log Rows Count                       0.1       log_rows_count  0.521439\n",
      "      5  Is Response Balanced Check               0.1       is_response_balanced  1\n",
      "      6  Is Response Positive Values Only Check   0.1       is_response_positive_values_only  -1\n",
      "      7  Support Vector Regression               -0.895552  score                                    0.204448\n",
      "                                                            support_vector_regression_score_reward  -0.795552\n",
      "      8  Get Standarized Variables Ratio          0.1       standarized_variables_ratio  1\n",
      "      9  Get Log Columns Count                    0.1       log_columns_count  0.56919\n",
      "     10  Get Correlated Variables Ratio           0.1       correlated_variables_ratio  0.0784314\n"
     ]
    },
    {
     "data": {
      "text/markdown": [
       "### 648_fri_c1_250_50"
      ],
      "text/plain": [
       "<IPython.core.display.Markdown object>"
      ]
     },
     "metadata": {},
     "output_type": "display_data"
    },
    {
     "name": "stdout",
     "output_type": "stream",
     "text": [
      "\n",
      "Analysis executed at 2023-07-25 19:01:50.227731\n",
      "Final status is Complete\n",
      "Initial State known features:\n",
      "response_variable_label  target\n",
      "Steps:\n",
      "  Order  Step                                       Reward  State Change\n",
      "-------  --------------------------------------  ---------  -------------------------------------------------\n",
      "      1  Infer Response DType                     0.1       response_inferred_dtype  floating\n",
      "      2  Is Response Quantitative Check           0.1       is_response_quantitative  1\n",
      "      3  Is Response Dichotomous Check            0.1       is_response_dichotomous  -1\n",
      "      4  Get Log Rows Count                       0.1       log_rows_count  0.463281\n",
      "      5  Is Response Balanced Check               0.1       is_response_balanced  1\n",
      "      6  Is Response Positive Values Only Check   0.1       is_response_positive_values_only  -1\n",
      "      7  Support Vector Regression               -0.852892  score                                    0.247108\n",
      "                                                            support_vector_regression_score_reward  -0.752892\n",
      "      8  Get Standarized Variables Ratio          0.1       standarized_variables_ratio  1\n",
      "      9  Get Log Columns Count                    0.1       log_columns_count  0.56919\n",
      "     10  Get Correlated Variables Ratio           0.1       correlated_variables_ratio  0.0196078\n"
     ]
    },
    {
     "data": {
      "text/markdown": [
       "### 523_analcatdata_neavote"
      ],
      "text/plain": [
       "<IPython.core.display.Markdown object>"
      ]
     },
     "metadata": {},
     "output_type": "display_data"
    },
    {
     "name": "stdout",
     "output_type": "stream",
     "text": [
      "\n",
      "Analysis executed at 2023-07-25 19:01:50.257894\n",
      "Final status is Complete\n",
      "Initial State known features:\n",
      "response_variable_label  target\n",
      "Steps:\n",
      "  Order  Step                                      Reward  State Change\n",
      "-------  --------------------------------------  --------  ------------------------------------------------------------------\n",
      "      1  Infer Response DType                         0.1  response_inferred_dtype  floating\n",
      "      2  Is Response Quantitative Check               0.1  is_response_quantitative  1\n",
      "      3  Is Response Dichotomous Check                0.1  is_response_dichotomous  -1\n",
      "      4  Get Log Rows Count                           0.1  log_rows_count  0.386399\n",
      "      5  Is Response Discrete Check                   0.1  is_response_discrete  1\n",
      "      6  Get Standarized Variables Ratio              0.1  standarized_variables_ratio  -1\n",
      "      7  Is Response Positive Values Only Check       0.1  is_response_positive_values_only  1\n",
      "      8  Poisson Regression                           1    score                                                     0.935161\n",
      "                                                           does_poisson_regression_raises_perfect_separation_error  -1\n",
      "                                                           poisson_regression_score_reward                           0.935161\n"
     ]
    },
    {
     "data": {
      "text/markdown": [
       "### 1089_USCrime"
      ],
      "text/plain": [
       "<IPython.core.display.Markdown object>"
      ]
     },
     "metadata": {},
     "output_type": "display_data"
    },
    {
     "name": "stdout",
     "output_type": "stream",
     "text": [
      "\n",
      "Analysis executed at 2023-07-25 19:01:53.055650\n",
      "Final status is Complete\n",
      "Initial State known features:\n",
      "response_variable_label  target\n",
      "Steps:\n",
      "  Order  Step                                      Reward  State Change\n",
      "-------  --------------------------------------  --------  -----------------------------------\n",
      "      1  Infer Response DType                         0.1  response_inferred_dtype  floating\n",
      "      2  Is Response Quantitative Check               0.1  is_response_quantitative  1\n",
      "      3  Is Response Dichotomous Check                0.1  is_response_dichotomous  -1\n",
      "      4  Get Log Rows Count                           0.1  log_rows_count  0.323048\n",
      "      5  Is Response Discrete Check                   0.1  is_response_discrete  1\n",
      "      6  Get Standarized Variables Ratio              0.1  standarized_variables_ratio  -1\n",
      "      7  Is Response Positive Values Only Check       0.1  is_response_positive_values_only  1\n",
      "      8  Get Log Columns Count                        0.1  log_columns_count  0.382043\n",
      "      9  Get Correlated Variables Ratio               0.1  correlated_variables_ratio  2.14286\n",
      "     10  Get Log Rows Count                          -1\n"
     ]
    },
    {
     "data": {
      "text/markdown": [
       "### 618_fri_c3_1000_50"
      ],
      "text/plain": [
       "<IPython.core.display.Markdown object>"
      ]
     },
     "metadata": {},
     "output_type": "display_data"
    },
    {
     "name": "stdout",
     "output_type": "stream",
     "text": [
      "\n",
      "Analysis executed at 2023-07-25 19:01:54.938633\n",
      "Final status is Complete\n",
      "Initial State known features:\n",
      "response_variable_label  target\n",
      "Steps:\n",
      "  Order  Step                                       Reward  State Change\n",
      "-------  --------------------------------------  ---------  -------------------------------------------------\n",
      "      1  Infer Response DType                     0.1       response_inferred_dtype  floating\n",
      "      2  Is Response Quantitative Check           0.1       is_response_quantitative  1\n",
      "      3  Is Response Dichotomous Check            0.1       is_response_dichotomous  -1\n",
      "      4  Get Log Rows Count                       0.1       log_rows_count  0.579598\n",
      "      5  Is Response Balanced Check               0.1       is_response_balanced  1\n",
      "      6  Is Response Positive Values Only Check   0.1       is_response_positive_values_only  -1\n",
      "      7  Support Vector Regression               -0.803216  score                                    0.296784\n",
      "                                                            support_vector_regression_score_reward  -0.703216\n",
      "      8  Get Standarized Variables Ratio          0.1       standarized_variables_ratio  1\n",
      "      9  Get Log Columns Count                    0.1       log_columns_count  0.56919\n",
      "     10  Is Response Balanced Check              -1\n"
     ]
    },
    {
     "data": {
      "text/markdown": [
       "### 604_fri_c4_500_10"
      ],
      "text/plain": [
       "<IPython.core.display.Markdown object>"
      ]
     },
     "metadata": {},
     "output_type": "display_data"
    },
    {
     "name": "stdout",
     "output_type": "stream",
     "text": [
      "\n",
      "Analysis executed at 2023-07-25 19:01:56.041802\n",
      "Final status is Complete\n",
      "Initial State known features:\n",
      "response_variable_label  target\n",
      "Steps:\n",
      "  Order  Step                                      Reward  State Change\n",
      "-------  --------------------------------------  --------  ------------------------------------------------\n",
      "      1  Infer Response DType                    0.1       response_inferred_dtype  floating\n",
      "      2  Is Response Quantitative Check          0.1       is_response_quantitative  1\n",
      "      3  Is Response Dichotomous Check           0.1       is_response_dichotomous  -1\n",
      "      4  Get Log Rows Count                      0.1       log_rows_count  0.521439\n",
      "      5  Is Response Balanced Check              0.1       is_response_balanced  1\n",
      "      6  Is Response Positive Values Only Check  0.1       is_response_positive_values_only  -1\n",
      "      7  Support Vector Regression               0.636773  score                                   0.736773\n",
      "                                                           support_vector_regression_score_reward  0.736773\n"
     ]
    },
    {
     "data": {
      "text/markdown": [
       "### 344_mv"
      ],
      "text/plain": [
       "<IPython.core.display.Markdown object>"
      ]
     },
     "metadata": {},
     "output_type": "display_data"
    },
    {
     "name": "stdout",
     "output_type": "stream",
     "text": [
      "\n",
      "Analysis executed at 2023-07-25 19:01:56.762477\n",
      "Final status is Complete\n",
      "Initial State known features:\n",
      "response_variable_label  target\n",
      "Steps:\n",
      "  Order  Step                                      Reward  State Change\n",
      "-------  --------------------------------------  --------  ------------------------------------\n",
      "      1  Infer Response DType                         0.1  response_inferred_dtype  floating\n",
      "      2  Is Response Quantitative Check               0.1  is_response_quantitative  1\n",
      "      3  Is Response Dichotomous Check                0.1  is_response_dichotomous  -1\n",
      "      4  Get Log Rows Count                           0.1  log_rows_count  0.890711\n",
      "      5  Is Response Balanced Check                   0.1  is_response_balanced  -1\n",
      "      6  Is Response Discrete Check                   0.1  is_response_discrete  -1\n",
      "      7  Is Response Positive Values Only Check       0.1  is_response_positive_values_only  -1\n",
      "      8  Support Vector Regression                   -1\n",
      "      9  Support Vector Regression                   -1\n",
      "     10  Support Vector Regression                   -1\n"
     ]
    },
    {
     "data": {
      "text/markdown": [
       "### 537_houses"
      ],
      "text/plain": [
       "<IPython.core.display.Markdown object>"
      ]
     },
     "metadata": {},
     "output_type": "display_data"
    },
    {
     "name": "stdout",
     "output_type": "stream",
     "text": [
      "\n",
      "Analysis executed at 2023-07-25 19:01:56.877034\n",
      "Final status is Complete\n",
      "Initial State known features:\n",
      "response_variable_label  target\n",
      "Steps:\n",
      "  Order  Step                                      Reward  State Change\n",
      "-------  --------------------------------------  --------  -----------------------------------\n",
      "      1  Infer Response DType                         0.1  response_inferred_dtype  floating\n",
      "      2  Is Response Quantitative Check               0.1  is_response_quantitative  1\n",
      "      3  Is Response Dichotomous Check                0.1  is_response_dichotomous  -1\n",
      "      4  Get Log Rows Count                           0.1  log_rows_count  0.833599\n",
      "      5  Is Response Balanced Check                   0.1  is_response_balanced  -1\n",
      "      6  Is Response Discrete Check                   0.1  is_response_discrete  1\n",
      "      7  Is Response Positive Values Only Check       0.1  is_response_positive_values_only  1\n",
      "      8  Linear Support Vector Regression            -1\n",
      "      9  Linear Support Vector Regression            -1\n",
      "     10  Linear Support Vector Regression            -1\n"
     ]
    },
    {
     "data": {
      "text/markdown": [
       "### 645_fri_c3_500_50"
      ],
      "text/plain": [
       "<IPython.core.display.Markdown object>"
      ]
     },
     "metadata": {},
     "output_type": "display_data"
    },
    {
     "name": "stdout",
     "output_type": "stream",
     "text": [
      "\n",
      "Analysis executed at 2023-07-25 19:01:57.963662\n",
      "Final status is Complete\n",
      "Initial State known features:\n",
      "response_variable_label  target\n",
      "Steps:\n",
      "  Order  Step                                       Reward  State Change\n",
      "-------  --------------------------------------  ---------  -------------------------------------------------\n",
      "      1  Infer Response DType                     0.1       response_inferred_dtype  floating\n",
      "      2  Is Response Quantitative Check           0.1       is_response_quantitative  1\n",
      "      3  Is Response Dichotomous Check            0.1       is_response_dichotomous  -1\n",
      "      4  Get Log Rows Count                       0.1       log_rows_count  0.521439\n",
      "      5  Is Response Balanced Check               0.1       is_response_balanced  1\n",
      "      6  Is Response Positive Values Only Check   0.1       is_response_positive_values_only  -1\n",
      "      7  Support Vector Regression               -0.875858  score                                    0.224142\n",
      "                                                            support_vector_regression_score_reward  -0.775858\n",
      "      8  Get Standarized Variables Ratio          0.1       standarized_variables_ratio  1\n",
      "      9  Get Log Columns Count                    0.1       log_columns_count  0.56919\n",
      "     10  Get Correlated Variables Ratio           0.1       correlated_variables_ratio  0.156863\n"
     ]
    }
   ],
   "source": [
    "from IPython.display import display\n",
    "\n",
    "for result in results:\n",
    "    display(Markdown(f\"### {result['name']}\"))\n",
    "    print(result['analysis'].summary())"
   ]
  }
 ],
 "metadata": {
  "kernelspec": {
   "display_name": ".venv",
   "language": "python",
   "name": "python3"
  },
  "language_info": {
   "codemirror_mode": {
    "name": "ipython",
    "version": 3
   },
   "file_extension": ".py",
   "mimetype": "text/x-python",
   "name": "python",
   "nbconvert_exporter": "python",
   "pygments_lexer": "ipython3",
   "version": "3.11.4"
  },
  "orig_nbformat": 4
 },
 "nbformat": 4,
 "nbformat_minor": 2
}
