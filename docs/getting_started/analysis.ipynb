{
 "cells": [
  {
   "attachments": {},
   "cell_type": "markdown",
   "metadata": {},
   "source": [
    "# Analysis"
   ]
  },
  {
   "cell_type": "code",
   "execution_count": 5,
   "metadata": {},
   "outputs": [
    {
     "name": "stdout",
     "output_type": "stream",
     "text": [
      "\n",
      "Analysis executed at 2023-03-11 18:47:58.235069\n",
      "Final status is Complete\n",
      "Initial State known features:\n",
      "\n",
      "Steps:\n",
      "  Order  Step                             Reward  State Change\n",
      "-------  -----------------------------  --------  --------------------------\n",
      "      1  is_response_dichotomous_check       0.5  is_response_dichotomous  1\n",
      "      2  LogisticRegressionCV(cv=5)          1    score  0.94\n"
     ]
    }
   ],
   "source": [
    "from ostatslib.agents import PPOAgent\n",
    "from sklearn.datasets import make_classification\n",
    "from pandas import DataFrame\n",
    "\n",
    "# loading trained agent\n",
    "agent = PPOAgent('../trained_ppo_model')\n",
    "\n",
    "# generating data\n",
    "X, y = make_classification()\n",
    "classification_data = DataFrame(X)\n",
    "classification_data['result'] = y\n",
    "\n",
    "# running analysis\n",
    "classification_analysis = agent.analyze(classification_data)\n",
    "\n",
    "# printing results\n",
    "print(classification_analysis.summary())"
   ]
  },
  {
   "cell_type": "code",
   "execution_count": 7,
   "metadata": {},
   "outputs": [
    {
     "name": "stdout",
     "output_type": "stream",
     "text": [
      "\n",
      "Analysis executed at 2023-03-11 18:51:11.841157\n",
      "Final status is Complete\n",
      "Initial State known features:\n",
      "\n",
      "Steps:\n",
      "  Order  Step                                                                                       Reward  State Change\n",
      "-------  ---------------------------------------------------------------------------------------  --------  ----------------------------------------\n",
      "      1  is_response_dichotomous_check                                                                 0.5  is_response_dichotomous  -1\n",
      "      2  is_response_quantitative                                                                      0.5  is_response_quantitative  1\n",
      "      3  is_response_discrete_check                                                                    0.5  is_response_discrete  -1\n",
      "      4  <statsmodels.regression.linear_model.RegressionResultsWrapper object at 0x7f15de053760>       1    score                                  1\n",
      "                                                                                                            are_linear_model_residuals_correlated  1\n"
     ]
    }
   ],
   "source": [
    "from sklearn.datasets import make_regression\n",
    "\n",
    "# generating data\n",
    "X, y = make_regression()\n",
    "regression_data = DataFrame(X)\n",
    "regression_data['result'] = y\n",
    "\n",
    "# running analysis\n",
    "regression_analysis = agent.analyze(regression_data)\n",
    "\n",
    "# printing results\n",
    "print(regression_analysis.summary())"
   ]
  }
 ],
 "metadata": {
  "kernelspec": {
   "display_name": ".venv",
   "language": "python",
   "name": "python3"
  },
  "language_info": {
   "codemirror_mode": {
    "name": "ipython",
    "version": 3
   },
   "file_extension": ".py",
   "mimetype": "text/x-python",
   "name": "python",
   "nbconvert_exporter": "python",
   "pygments_lexer": "ipython3",
   "version": "3.10.10"
  },
  "orig_nbformat": 4
 },
 "nbformat": 4,
 "nbformat_minor": 2
}
